{
 "cells": [
  {
   "cell_type": "code",
   "execution_count": 1,
   "metadata": {},
   "outputs": [],
   "source": [
    "# what to do next time: Sync jupyternotebook with github, overfitting problem in some models, warning error\n",
    "import numpy as np\n",
    "import matplotlib.pyplot as plt\n",
    "import pandas as pd\n",
    "import seaborn as sns\n",
    "\n",
    "from sklearn.linear_model import LinearRegression\n",
    "from sklearn.model_selection import train_test_split\n",
    "import statsmodels.regression.linear_model as sm\n",
    "from sklearn.preprocessing import PolynomialFeatures"
   ]
  },
  {
   "cell_type": "code",
   "execution_count": 2,
   "metadata": {},
   "outputs": [
    {
     "name": "stdout",
     "output_type": "stream",
     "text": [
      "(1460, 81) (1459, 80)\n"
     ]
    }
   ],
   "source": [
    "df_train = pd.read_csv('train.csv')\n",
    "df_test = pd.read_csv('test.csv')\n",
    "print(df_train.shape, df_test.shape)"
   ]
  },
  {
   "cell_type": "code",
   "execution_count": 3,
   "metadata": {},
   "outputs": [
    {
     "name": "stdout",
     "output_type": "stream",
     "text": [
      "(1460, 75) (1459, 74)\n"
     ]
    }
   ],
   "source": [
    "# check number of obj and numeric columns of training and test datasets\n",
    "def dim_check(train, test):\n",
    "    \n",
    "    print('Training set dimension: {}'.format(train.shape))\n",
    "    print('Test set dimension:     {}'.format(test.shape))\n",
    "    print('-----------------------------------------')\n",
    "    print('Number of training set object col:  {}'.format(len(train.select_dtypes(include = ['object', 'bool']).columns)))\n",
    "    print('Number of training set numeric col: {}'.format(len(train.select_dtypes(include = ['float64', 'int64', 'int32']).columns)))\n",
    "    print('-----------------------------------------')\n",
    "    print('Number of test set object col:  {}'.format(len(test.select_dtypes(include = ['object', 'bool']).columns)))\n",
    "    print('Number of test set numeric col: {}'.format(len(test.select_dtypes(include = ['float64', 'int64', 'int32']).columns)))\n",
    "\n",
    "\n",
    "def del_null_val(dataset):\n",
    "    # Find null values in Train dataset\n",
    "    listt = dataset.isnull().sum()\n",
    "    del_nul_col = listt[listt > 100]\n",
    "    #print(del_nul_col, '\\n\\n')\n",
    "\n",
    "    # Delete columns with null values\n",
    "    dataset.drop(columns = del_nul_col.index, inplace = True)\n",
    "    return dataset\n",
    "\n",
    "df_train = del_null_val(df_train)\n",
    "df_test = del_null_val(df_test)\n",
    "print(df_train.shape, df_test.shape)"
   ]
  },
  {
   "cell_type": "markdown",
   "metadata": {},
   "source": [
    "## Data Preprocessing"
   ]
  },
  {
   "cell_type": "markdown",
   "metadata": {},
   "source": [
    "#### Explore Object columns"
   ]
  },
  {
   "cell_type": "code",
   "execution_count": 4,
   "metadata": {},
   "outputs": [
    {
     "name": "stdout",
     "output_type": "stream",
     "text": [
      "BsmtCond        37\n",
      "BsmtFinType2    38\n",
      "Electrical       1\n",
      "GarageType      81\n",
      "GarageFinish    81\n",
      "GarageQual      81\n",
      "GarageCond      81\n",
      "dtype: int64 \n",
      "\n",
      "\n",
      "Utilities        2\n",
      "BsmtCond        45\n",
      "Functional       2\n",
      "GarageType      76\n",
      "GarageFinish    78\n",
      "GarageQual      78\n",
      "GarageCond      78\n",
      "SaleType         1\n",
      "dtype: int64 \n",
      "\n",
      "\n",
      "Training set dimension: (1460, 75)\n",
      "Test set dimension:     (1459, 74)\n",
      "-----------------------------------------\n",
      "Number of training set object col:  38\n",
      "Number of training set numeric col: 37\n",
      "-----------------------------------------\n",
      "Number of test set object col:  38\n",
      "Number of test set numeric col: 36\n"
     ]
    }
   ],
   "source": [
    "def col_type_list(dataset, col_type_list):\n",
    "    col_list = dataset.select_dtypes(include = col_type_list).columns\n",
    "    #print(dataset.select_dtypes(include = col_type_list).shape)\n",
    "    return col_list\n",
    "    \n",
    "col_obj = col_type_list(df_train, ['object', 'bool'])\n",
    "col_num = col_type_list(df_train, ['float64', 'int64', 'int32'])\n",
    "\n",
    "# let's exclude all obj columns with missing data in train dataset\n",
    "def list_obj_null(dataset):\n",
    "    \n",
    "    col_obj = col_type_list(dataset, ['object', 'bool'])\n",
    "    listt = dataset[col_obj].isnull().sum()\n",
    "    del_serie = listt[listt > 0]\n",
    "    #print(del_serie, '\\n\\n')\n",
    "    \n",
    "    return del_serie\n",
    "\n",
    "# fill nan values of object features with top frequent values, only frequent values that are less than 85 % of total \n",
    "# numbers\n",
    "def fill_nan_obj(series, dataset):\n",
    "    # Select features with nan values of less than 5\n",
    "    for i in series.index:\n",
    "        if series[i] < 45:\n",
    "            if dataset[i].describe().freq < dataset.shape[0] * 0.85:\n",
    "                dataset[i].fillna(dataset[i].describe().top, inplace = True)\n",
    "    \n",
    "    list_ = dataset[col_obj].isnull().sum()\n",
    "    check_list = list_[list_ > 0]\n",
    "    print(check_list, '\\n\\n')\n",
    "    \n",
    "    return dataset\n",
    "        \n",
    "\n",
    "df_train = fill_nan_obj(list_obj_null(df_train), df_train)\n",
    "df_test = fill_nan_obj(list_obj_null(df_test), df_test) \n",
    "dim_check(df_train, df_test)"
   ]
  },
  {
   "cell_type": "code",
   "execution_count": 5,
   "metadata": {},
   "outputs": [
    {
     "data": {
      "text/plain": [
       "['BsmtCond',\n",
       " 'BsmtFinType2',\n",
       " 'Electrical',\n",
       " 'Functional',\n",
       " 'GarageCond',\n",
       " 'GarageFinish',\n",
       " 'GarageQual',\n",
       " 'GarageType',\n",
       " 'SaleType',\n",
       " 'Utilities']"
      ]
     },
     "execution_count": 5,
     "metadata": {},
     "output_type": "execute_result"
    }
   ],
   "source": [
    "# All object columns with missing value in both training and test sets must be deleted from both datasets\n",
    "list_to_del = list(list_obj_null(df_train).index | list_obj_null(df_test).index)\n",
    "list_to_del"
   ]
  },
  {
   "cell_type": "code",
   "execution_count": 6,
   "metadata": {},
   "outputs": [
    {
     "name": "stdout",
     "output_type": "stream",
     "text": [
      "Training set dimension: (1460, 65)\n",
      "Test set dimension:     (1459, 64)\n",
      "-----------------------------------------\n",
      "Number of training set object col:  28\n",
      "Number of training set numeric col: 37\n",
      "-----------------------------------------\n",
      "Number of test set object col:  28\n",
      "Number of test set numeric col: 36\n"
     ]
    }
   ],
   "source": [
    "# Delete columns with any null OBJECT values \n",
    "df_train.drop(columns = list_to_del, inplace = True)\n",
    "df_test.drop(columns = list_to_del, inplace = True)\n",
    "dim_check(df_train, df_test)"
   ]
  },
  {
   "cell_type": "code",
   "execution_count": 7,
   "metadata": {},
   "outputs": [],
   "source": [
    "# Object columns:\n",
    "col_obj = col_type_list(df_train, ['object', 'bool'])\n",
    "# Object columns:\n",
    "col_obj_test = col_type_list(df_test, ['object', 'bool'])"
   ]
  },
  {
   "cell_type": "code",
   "execution_count": 8,
   "metadata": {},
   "outputs": [],
   "source": [
    "# Visualize categorical features in train dataset\n",
    "# with no null value\n",
    "def plot_subplot(dataset, feat_type):\n",
    "    \n",
    "    %matplotlib notebook\n",
    "    col_obj = col_type_list(dataset, feat_type)\n",
    "    n = len(col_obj)\n",
    "    plt.figure(figsize=(10, 6))\n",
    "    labels = col_obj[:n]\n",
    "    for i in range(n):\n",
    "        plt.subplot(np.sqrt(n), np.sqrt(n)+1, i +1)\n",
    "        plt.scatter(dataset[col_obj[i]], dataset['SalePrice'], label = 'Real Price', s = 4)\n",
    "        plt.xlabel(col_obj[i])\n",
    "    plt.ylabel('Price')\n",
    "    plt.legend()\n",
    "    plt.tight_layout()"
   ]
  },
  {
   "cell_type": "code",
   "execution_count": 9,
   "metadata": {},
   "outputs": [
    {
     "data": {
      "application/javascript": [
       "/* Put everything inside the global mpl namespace */\n",
       "window.mpl = {};\n",
       "\n",
       "\n",
       "mpl.get_websocket_type = function() {\n",
       "    if (typeof(WebSocket) !== 'undefined') {\n",
       "        return WebSocket;\n",
       "    } else if (typeof(MozWebSocket) !== 'undefined') {\n",
       "        return MozWebSocket;\n",
       "    } else {\n",
       "        alert('Your browser does not have WebSocket support. ' +\n",
       "              'Please try Chrome, Safari or Firefox ≥ 6. ' +\n",
       "              'Firefox 4 and 5 are also supported but you ' +\n",
       "              'have to enable WebSockets in about:config.');\n",
       "    };\n",
       "}\n",
       "\n",
       "mpl.figure = function(figure_id, websocket, ondownload, parent_element) {\n",
       "    this.id = figure_id;\n",
       "\n",
       "    this.ws = websocket;\n",
       "\n",
       "    this.supports_binary = (this.ws.binaryType != undefined);\n",
       "\n",
       "    if (!this.supports_binary) {\n",
       "        var warnings = document.getElementById(\"mpl-warnings\");\n",
       "        if (warnings) {\n",
       "            warnings.style.display = 'block';\n",
       "            warnings.textContent = (\n",
       "                \"This browser does not support binary websocket messages. \" +\n",
       "                    \"Performance may be slow.\");\n",
       "        }\n",
       "    }\n",
       "\n",
       "    this.imageObj = new Image();\n",
       "\n",
       "    this.context = undefined;\n",
       "    this.message = undefined;\n",
       "    this.canvas = undefined;\n",
       "    this.rubberband_canvas = undefined;\n",
       "    this.rubberband_context = undefined;\n",
       "    this.format_dropdown = undefined;\n",
       "\n",
       "    this.image_mode = 'full';\n",
       "\n",
       "    this.root = $('<div/>');\n",
       "    this._root_extra_style(this.root)\n",
       "    this.root.attr('style', 'display: inline-block');\n",
       "\n",
       "    $(parent_element).append(this.root);\n",
       "\n",
       "    this._init_header(this);\n",
       "    this._init_canvas(this);\n",
       "    this._init_toolbar(this);\n",
       "\n",
       "    var fig = this;\n",
       "\n",
       "    this.waiting = false;\n",
       "\n",
       "    this.ws.onopen =  function () {\n",
       "            fig.send_message(\"supports_binary\", {value: fig.supports_binary});\n",
       "            fig.send_message(\"send_image_mode\", {});\n",
       "            if (mpl.ratio != 1) {\n",
       "                fig.send_message(\"set_dpi_ratio\", {'dpi_ratio': mpl.ratio});\n",
       "            }\n",
       "            fig.send_message(\"refresh\", {});\n",
       "        }\n",
       "\n",
       "    this.imageObj.onload = function() {\n",
       "            if (fig.image_mode == 'full') {\n",
       "                // Full images could contain transparency (where diff images\n",
       "                // almost always do), so we need to clear the canvas so that\n",
       "                // there is no ghosting.\n",
       "                fig.context.clearRect(0, 0, fig.canvas.width, fig.canvas.height);\n",
       "            }\n",
       "            fig.context.drawImage(fig.imageObj, 0, 0);\n",
       "        };\n",
       "\n",
       "    this.imageObj.onunload = function() {\n",
       "        fig.ws.close();\n",
       "    }\n",
       "\n",
       "    this.ws.onmessage = this._make_on_message_function(this);\n",
       "\n",
       "    this.ondownload = ondownload;\n",
       "}\n",
       "\n",
       "mpl.figure.prototype._init_header = function() {\n",
       "    var titlebar = $(\n",
       "        '<div class=\"ui-dialog-titlebar ui-widget-header ui-corner-all ' +\n",
       "        'ui-helper-clearfix\"/>');\n",
       "    var titletext = $(\n",
       "        '<div class=\"ui-dialog-title\" style=\"width: 100%; ' +\n",
       "        'text-align: center; padding: 3px;\"/>');\n",
       "    titlebar.append(titletext)\n",
       "    this.root.append(titlebar);\n",
       "    this.header = titletext[0];\n",
       "}\n",
       "\n",
       "\n",
       "\n",
       "mpl.figure.prototype._canvas_extra_style = function(canvas_div) {\n",
       "\n",
       "}\n",
       "\n",
       "\n",
       "mpl.figure.prototype._root_extra_style = function(canvas_div) {\n",
       "\n",
       "}\n",
       "\n",
       "mpl.figure.prototype._init_canvas = function() {\n",
       "    var fig = this;\n",
       "\n",
       "    var canvas_div = $('<div/>');\n",
       "\n",
       "    canvas_div.attr('style', 'position: relative; clear: both; outline: 0');\n",
       "\n",
       "    function canvas_keyboard_event(event) {\n",
       "        return fig.key_event(event, event['data']);\n",
       "    }\n",
       "\n",
       "    canvas_div.keydown('key_press', canvas_keyboard_event);\n",
       "    canvas_div.keyup('key_release', canvas_keyboard_event);\n",
       "    this.canvas_div = canvas_div\n",
       "    this._canvas_extra_style(canvas_div)\n",
       "    this.root.append(canvas_div);\n",
       "\n",
       "    var canvas = $('<canvas/>');\n",
       "    canvas.addClass('mpl-canvas');\n",
       "    canvas.attr('style', \"left: 0; top: 0; z-index: 0; outline: 0\")\n",
       "\n",
       "    this.canvas = canvas[0];\n",
       "    this.context = canvas[0].getContext(\"2d\");\n",
       "\n",
       "    var backingStore = this.context.backingStorePixelRatio ||\n",
       "\tthis.context.webkitBackingStorePixelRatio ||\n",
       "\tthis.context.mozBackingStorePixelRatio ||\n",
       "\tthis.context.msBackingStorePixelRatio ||\n",
       "\tthis.context.oBackingStorePixelRatio ||\n",
       "\tthis.context.backingStorePixelRatio || 1;\n",
       "\n",
       "    mpl.ratio = (window.devicePixelRatio || 1) / backingStore;\n",
       "\n",
       "    var rubberband = $('<canvas/>');\n",
       "    rubberband.attr('style', \"position: absolute; left: 0; top: 0; z-index: 1;\")\n",
       "\n",
       "    var pass_mouse_events = true;\n",
       "\n",
       "    canvas_div.resizable({\n",
       "        start: function(event, ui) {\n",
       "            pass_mouse_events = false;\n",
       "        },\n",
       "        resize: function(event, ui) {\n",
       "            fig.request_resize(ui.size.width, ui.size.height);\n",
       "        },\n",
       "        stop: function(event, ui) {\n",
       "            pass_mouse_events = true;\n",
       "            fig.request_resize(ui.size.width, ui.size.height);\n",
       "        },\n",
       "    });\n",
       "\n",
       "    function mouse_event_fn(event) {\n",
       "        if (pass_mouse_events)\n",
       "            return fig.mouse_event(event, event['data']);\n",
       "    }\n",
       "\n",
       "    rubberband.mousedown('button_press', mouse_event_fn);\n",
       "    rubberband.mouseup('button_release', mouse_event_fn);\n",
       "    // Throttle sequential mouse events to 1 every 20ms.\n",
       "    rubberband.mousemove('motion_notify', mouse_event_fn);\n",
       "\n",
       "    rubberband.mouseenter('figure_enter', mouse_event_fn);\n",
       "    rubberband.mouseleave('figure_leave', mouse_event_fn);\n",
       "\n",
       "    canvas_div.on(\"wheel\", function (event) {\n",
       "        event = event.originalEvent;\n",
       "        event['data'] = 'scroll'\n",
       "        if (event.deltaY < 0) {\n",
       "            event.step = 1;\n",
       "        } else {\n",
       "            event.step = -1;\n",
       "        }\n",
       "        mouse_event_fn(event);\n",
       "    });\n",
       "\n",
       "    canvas_div.append(canvas);\n",
       "    canvas_div.append(rubberband);\n",
       "\n",
       "    this.rubberband = rubberband;\n",
       "    this.rubberband_canvas = rubberband[0];\n",
       "    this.rubberband_context = rubberband[0].getContext(\"2d\");\n",
       "    this.rubberband_context.strokeStyle = \"#000000\";\n",
       "\n",
       "    this._resize_canvas = function(width, height) {\n",
       "        // Keep the size of the canvas, canvas container, and rubber band\n",
       "        // canvas in synch.\n",
       "        canvas_div.css('width', width)\n",
       "        canvas_div.css('height', height)\n",
       "\n",
       "        canvas.attr('width', width * mpl.ratio);\n",
       "        canvas.attr('height', height * mpl.ratio);\n",
       "        canvas.attr('style', 'width: ' + width + 'px; height: ' + height + 'px;');\n",
       "\n",
       "        rubberband.attr('width', width);\n",
       "        rubberband.attr('height', height);\n",
       "    }\n",
       "\n",
       "    // Set the figure to an initial 600x600px, this will subsequently be updated\n",
       "    // upon first draw.\n",
       "    this._resize_canvas(600, 600);\n",
       "\n",
       "    // Disable right mouse context menu.\n",
       "    $(this.rubberband_canvas).bind(\"contextmenu\",function(e){\n",
       "        return false;\n",
       "    });\n",
       "\n",
       "    function set_focus () {\n",
       "        canvas.focus();\n",
       "        canvas_div.focus();\n",
       "    }\n",
       "\n",
       "    window.setTimeout(set_focus, 100);\n",
       "}\n",
       "\n",
       "mpl.figure.prototype._init_toolbar = function() {\n",
       "    var fig = this;\n",
       "\n",
       "    var nav_element = $('<div/>');\n",
       "    nav_element.attr('style', 'width: 100%');\n",
       "    this.root.append(nav_element);\n",
       "\n",
       "    // Define a callback function for later on.\n",
       "    function toolbar_event(event) {\n",
       "        return fig.toolbar_button_onclick(event['data']);\n",
       "    }\n",
       "    function toolbar_mouse_event(event) {\n",
       "        return fig.toolbar_button_onmouseover(event['data']);\n",
       "    }\n",
       "\n",
       "    for(var toolbar_ind in mpl.toolbar_items) {\n",
       "        var name = mpl.toolbar_items[toolbar_ind][0];\n",
       "        var tooltip = mpl.toolbar_items[toolbar_ind][1];\n",
       "        var image = mpl.toolbar_items[toolbar_ind][2];\n",
       "        var method_name = mpl.toolbar_items[toolbar_ind][3];\n",
       "\n",
       "        if (!name) {\n",
       "            // put a spacer in here.\n",
       "            continue;\n",
       "        }\n",
       "        var button = $('<button/>');\n",
       "        button.addClass('ui-button ui-widget ui-state-default ui-corner-all ' +\n",
       "                        'ui-button-icon-only');\n",
       "        button.attr('role', 'button');\n",
       "        button.attr('aria-disabled', 'false');\n",
       "        button.click(method_name, toolbar_event);\n",
       "        button.mouseover(tooltip, toolbar_mouse_event);\n",
       "\n",
       "        var icon_img = $('<span/>');\n",
       "        icon_img.addClass('ui-button-icon-primary ui-icon');\n",
       "        icon_img.addClass(image);\n",
       "        icon_img.addClass('ui-corner-all');\n",
       "\n",
       "        var tooltip_span = $('<span/>');\n",
       "        tooltip_span.addClass('ui-button-text');\n",
       "        tooltip_span.html(tooltip);\n",
       "\n",
       "        button.append(icon_img);\n",
       "        button.append(tooltip_span);\n",
       "\n",
       "        nav_element.append(button);\n",
       "    }\n",
       "\n",
       "    var fmt_picker_span = $('<span/>');\n",
       "\n",
       "    var fmt_picker = $('<select/>');\n",
       "    fmt_picker.addClass('mpl-toolbar-option ui-widget ui-widget-content');\n",
       "    fmt_picker_span.append(fmt_picker);\n",
       "    nav_element.append(fmt_picker_span);\n",
       "    this.format_dropdown = fmt_picker[0];\n",
       "\n",
       "    for (var ind in mpl.extensions) {\n",
       "        var fmt = mpl.extensions[ind];\n",
       "        var option = $(\n",
       "            '<option/>', {selected: fmt === mpl.default_extension}).html(fmt);\n",
       "        fmt_picker.append(option);\n",
       "    }\n",
       "\n",
       "    // Add hover states to the ui-buttons\n",
       "    $( \".ui-button\" ).hover(\n",
       "        function() { $(this).addClass(\"ui-state-hover\");},\n",
       "        function() { $(this).removeClass(\"ui-state-hover\");}\n",
       "    );\n",
       "\n",
       "    var status_bar = $('<span class=\"mpl-message\"/>');\n",
       "    nav_element.append(status_bar);\n",
       "    this.message = status_bar[0];\n",
       "}\n",
       "\n",
       "mpl.figure.prototype.request_resize = function(x_pixels, y_pixels) {\n",
       "    // Request matplotlib to resize the figure. Matplotlib will then trigger a resize in the client,\n",
       "    // which will in turn request a refresh of the image.\n",
       "    this.send_message('resize', {'width': x_pixels, 'height': y_pixels});\n",
       "}\n",
       "\n",
       "mpl.figure.prototype.send_message = function(type, properties) {\n",
       "    properties['type'] = type;\n",
       "    properties['figure_id'] = this.id;\n",
       "    this.ws.send(JSON.stringify(properties));\n",
       "}\n",
       "\n",
       "mpl.figure.prototype.send_draw_message = function() {\n",
       "    if (!this.waiting) {\n",
       "        this.waiting = true;\n",
       "        this.ws.send(JSON.stringify({type: \"draw\", figure_id: this.id}));\n",
       "    }\n",
       "}\n",
       "\n",
       "\n",
       "mpl.figure.prototype.handle_save = function(fig, msg) {\n",
       "    var format_dropdown = fig.format_dropdown;\n",
       "    var format = format_dropdown.options[format_dropdown.selectedIndex].value;\n",
       "    fig.ondownload(fig, format);\n",
       "}\n",
       "\n",
       "\n",
       "mpl.figure.prototype.handle_resize = function(fig, msg) {\n",
       "    var size = msg['size'];\n",
       "    if (size[0] != fig.canvas.width || size[1] != fig.canvas.height) {\n",
       "        fig._resize_canvas(size[0], size[1]);\n",
       "        fig.send_message(\"refresh\", {});\n",
       "    };\n",
       "}\n",
       "\n",
       "mpl.figure.prototype.handle_rubberband = function(fig, msg) {\n",
       "    var x0 = msg['x0'] / mpl.ratio;\n",
       "    var y0 = (fig.canvas.height - msg['y0']) / mpl.ratio;\n",
       "    var x1 = msg['x1'] / mpl.ratio;\n",
       "    var y1 = (fig.canvas.height - msg['y1']) / mpl.ratio;\n",
       "    x0 = Math.floor(x0) + 0.5;\n",
       "    y0 = Math.floor(y0) + 0.5;\n",
       "    x1 = Math.floor(x1) + 0.5;\n",
       "    y1 = Math.floor(y1) + 0.5;\n",
       "    var min_x = Math.min(x0, x1);\n",
       "    var min_y = Math.min(y0, y1);\n",
       "    var width = Math.abs(x1 - x0);\n",
       "    var height = Math.abs(y1 - y0);\n",
       "\n",
       "    fig.rubberband_context.clearRect(\n",
       "        0, 0, fig.canvas.width / mpl.ratio, fig.canvas.height / mpl.ratio);\n",
       "\n",
       "    fig.rubberband_context.strokeRect(min_x, min_y, width, height);\n",
       "}\n",
       "\n",
       "mpl.figure.prototype.handle_figure_label = function(fig, msg) {\n",
       "    // Updates the figure title.\n",
       "    fig.header.textContent = msg['label'];\n",
       "}\n",
       "\n",
       "mpl.figure.prototype.handle_cursor = function(fig, msg) {\n",
       "    var cursor = msg['cursor'];\n",
       "    switch(cursor)\n",
       "    {\n",
       "    case 0:\n",
       "        cursor = 'pointer';\n",
       "        break;\n",
       "    case 1:\n",
       "        cursor = 'default';\n",
       "        break;\n",
       "    case 2:\n",
       "        cursor = 'crosshair';\n",
       "        break;\n",
       "    case 3:\n",
       "        cursor = 'move';\n",
       "        break;\n",
       "    }\n",
       "    fig.rubberband_canvas.style.cursor = cursor;\n",
       "}\n",
       "\n",
       "mpl.figure.prototype.handle_message = function(fig, msg) {\n",
       "    fig.message.textContent = msg['message'];\n",
       "}\n",
       "\n",
       "mpl.figure.prototype.handle_draw = function(fig, msg) {\n",
       "    // Request the server to send over a new figure.\n",
       "    fig.send_draw_message();\n",
       "}\n",
       "\n",
       "mpl.figure.prototype.handle_image_mode = function(fig, msg) {\n",
       "    fig.image_mode = msg['mode'];\n",
       "}\n",
       "\n",
       "mpl.figure.prototype.updated_canvas_event = function() {\n",
       "    // Called whenever the canvas gets updated.\n",
       "    this.send_message(\"ack\", {});\n",
       "}\n",
       "\n",
       "// A function to construct a web socket function for onmessage handling.\n",
       "// Called in the figure constructor.\n",
       "mpl.figure.prototype._make_on_message_function = function(fig) {\n",
       "    return function socket_on_message(evt) {\n",
       "        if (evt.data instanceof Blob) {\n",
       "            /* FIXME: We get \"Resource interpreted as Image but\n",
       "             * transferred with MIME type text/plain:\" errors on\n",
       "             * Chrome.  But how to set the MIME type?  It doesn't seem\n",
       "             * to be part of the websocket stream */\n",
       "            evt.data.type = \"image/png\";\n",
       "\n",
       "            /* Free the memory for the previous frames */\n",
       "            if (fig.imageObj.src) {\n",
       "                (window.URL || window.webkitURL).revokeObjectURL(\n",
       "                    fig.imageObj.src);\n",
       "            }\n",
       "\n",
       "            fig.imageObj.src = (window.URL || window.webkitURL).createObjectURL(\n",
       "                evt.data);\n",
       "            fig.updated_canvas_event();\n",
       "            fig.waiting = false;\n",
       "            return;\n",
       "        }\n",
       "        else if (typeof evt.data === 'string' && evt.data.slice(0, 21) == \"data:image/png;base64\") {\n",
       "            fig.imageObj.src = evt.data;\n",
       "            fig.updated_canvas_event();\n",
       "            fig.waiting = false;\n",
       "            return;\n",
       "        }\n",
       "\n",
       "        var msg = JSON.parse(evt.data);\n",
       "        var msg_type = msg['type'];\n",
       "\n",
       "        // Call the  \"handle_{type}\" callback, which takes\n",
       "        // the figure and JSON message as its only arguments.\n",
       "        try {\n",
       "            var callback = fig[\"handle_\" + msg_type];\n",
       "        } catch (e) {\n",
       "            console.log(\"No handler for the '\" + msg_type + \"' message type: \", msg);\n",
       "            return;\n",
       "        }\n",
       "\n",
       "        if (callback) {\n",
       "            try {\n",
       "                // console.log(\"Handling '\" + msg_type + \"' message: \", msg);\n",
       "                callback(fig, msg);\n",
       "            } catch (e) {\n",
       "                console.log(\"Exception inside the 'handler_\" + msg_type + \"' callback:\", e, e.stack, msg);\n",
       "            }\n",
       "        }\n",
       "    };\n",
       "}\n",
       "\n",
       "// from http://stackoverflow.com/questions/1114465/getting-mouse-location-in-canvas\n",
       "mpl.findpos = function(e) {\n",
       "    //this section is from http://www.quirksmode.org/js/events_properties.html\n",
       "    var targ;\n",
       "    if (!e)\n",
       "        e = window.event;\n",
       "    if (e.target)\n",
       "        targ = e.target;\n",
       "    else if (e.srcElement)\n",
       "        targ = e.srcElement;\n",
       "    if (targ.nodeType == 3) // defeat Safari bug\n",
       "        targ = targ.parentNode;\n",
       "\n",
       "    // jQuery normalizes the pageX and pageY\n",
       "    // pageX,Y are the mouse positions relative to the document\n",
       "    // offset() returns the position of the element relative to the document\n",
       "    var x = e.pageX - $(targ).offset().left;\n",
       "    var y = e.pageY - $(targ).offset().top;\n",
       "\n",
       "    return {\"x\": x, \"y\": y};\n",
       "};\n",
       "\n",
       "/*\n",
       " * return a copy of an object with only non-object keys\n",
       " * we need this to avoid circular references\n",
       " * http://stackoverflow.com/a/24161582/3208463\n",
       " */\n",
       "function simpleKeys (original) {\n",
       "  return Object.keys(original).reduce(function (obj, key) {\n",
       "    if (typeof original[key] !== 'object')\n",
       "        obj[key] = original[key]\n",
       "    return obj;\n",
       "  }, {});\n",
       "}\n",
       "\n",
       "mpl.figure.prototype.mouse_event = function(event, name) {\n",
       "    var canvas_pos = mpl.findpos(event)\n",
       "\n",
       "    if (name === 'button_press')\n",
       "    {\n",
       "        this.canvas.focus();\n",
       "        this.canvas_div.focus();\n",
       "    }\n",
       "\n",
       "    var x = canvas_pos.x * mpl.ratio;\n",
       "    var y = canvas_pos.y * mpl.ratio;\n",
       "\n",
       "    this.send_message(name, {x: x, y: y, button: event.button,\n",
       "                             step: event.step,\n",
       "                             guiEvent: simpleKeys(event)});\n",
       "\n",
       "    /* This prevents the web browser from automatically changing to\n",
       "     * the text insertion cursor when the button is pressed.  We want\n",
       "     * to control all of the cursor setting manually through the\n",
       "     * 'cursor' event from matplotlib */\n",
       "    event.preventDefault();\n",
       "    return false;\n",
       "}\n",
       "\n",
       "mpl.figure.prototype._key_event_extra = function(event, name) {\n",
       "    // Handle any extra behaviour associated with a key event\n",
       "}\n",
       "\n",
       "mpl.figure.prototype.key_event = function(event, name) {\n",
       "\n",
       "    // Prevent repeat events\n",
       "    if (name == 'key_press')\n",
       "    {\n",
       "        if (event.which === this._key)\n",
       "            return;\n",
       "        else\n",
       "            this._key = event.which;\n",
       "    }\n",
       "    if (name == 'key_release')\n",
       "        this._key = null;\n",
       "\n",
       "    var value = '';\n",
       "    if (event.ctrlKey && event.which != 17)\n",
       "        value += \"ctrl+\";\n",
       "    if (event.altKey && event.which != 18)\n",
       "        value += \"alt+\";\n",
       "    if (event.shiftKey && event.which != 16)\n",
       "        value += \"shift+\";\n",
       "\n",
       "    value += 'k';\n",
       "    value += event.which.toString();\n",
       "\n",
       "    this._key_event_extra(event, name);\n",
       "\n",
       "    this.send_message(name, {key: value,\n",
       "                             guiEvent: simpleKeys(event)});\n",
       "    return false;\n",
       "}\n",
       "\n",
       "mpl.figure.prototype.toolbar_button_onclick = function(name) {\n",
       "    if (name == 'download') {\n",
       "        this.handle_save(this, null);\n",
       "    } else {\n",
       "        this.send_message(\"toolbar_button\", {name: name});\n",
       "    }\n",
       "};\n",
       "\n",
       "mpl.figure.prototype.toolbar_button_onmouseover = function(tooltip) {\n",
       "    this.message.textContent = tooltip;\n",
       "};\n",
       "mpl.toolbar_items = [[\"Home\", \"Reset original view\", \"fa fa-home icon-home\", \"home\"], [\"Back\", \"Back to previous view\", \"fa fa-arrow-left icon-arrow-left\", \"back\"], [\"Forward\", \"Forward to next view\", \"fa fa-arrow-right icon-arrow-right\", \"forward\"], [\"\", \"\", \"\", \"\"], [\"Pan\", \"Pan axes with left mouse, zoom with right\", \"fa fa-arrows icon-move\", \"pan\"], [\"Zoom\", \"Zoom to rectangle\", \"fa fa-square-o icon-check-empty\", \"zoom\"], [\"\", \"\", \"\", \"\"], [\"Download\", \"Download plot\", \"fa fa-floppy-o icon-save\", \"download\"]];\n",
       "\n",
       "mpl.extensions = [\"eps\", \"jpeg\", \"pdf\", \"png\", \"ps\", \"raw\", \"svg\", \"tif\"];\n",
       "\n",
       "mpl.default_extension = \"png\";var comm_websocket_adapter = function(comm) {\n",
       "    // Create a \"websocket\"-like object which calls the given IPython comm\n",
       "    // object with the appropriate methods. Currently this is a non binary\n",
       "    // socket, so there is still some room for performance tuning.\n",
       "    var ws = {};\n",
       "\n",
       "    ws.close = function() {\n",
       "        comm.close()\n",
       "    };\n",
       "    ws.send = function(m) {\n",
       "        //console.log('sending', m);\n",
       "        comm.send(m);\n",
       "    };\n",
       "    // Register the callback with on_msg.\n",
       "    comm.on_msg(function(msg) {\n",
       "        //console.log('receiving', msg['content']['data'], msg);\n",
       "        // Pass the mpl event to the overridden (by mpl) onmessage function.\n",
       "        ws.onmessage(msg['content']['data'])\n",
       "    });\n",
       "    return ws;\n",
       "}\n",
       "\n",
       "mpl.mpl_figure_comm = function(comm, msg) {\n",
       "    // This is the function which gets called when the mpl process\n",
       "    // starts-up an IPython Comm through the \"matplotlib\" channel.\n",
       "\n",
       "    var id = msg.content.data.id;\n",
       "    // Get hold of the div created by the display call when the Comm\n",
       "    // socket was opened in Python.\n",
       "    var element = $(\"#\" + id);\n",
       "    var ws_proxy = comm_websocket_adapter(comm)\n",
       "\n",
       "    function ondownload(figure, format) {\n",
       "        window.open(figure.imageObj.src);\n",
       "    }\n",
       "\n",
       "    var fig = new mpl.figure(id, ws_proxy,\n",
       "                           ondownload,\n",
       "                           element.get(0));\n",
       "\n",
       "    // Call onopen now - mpl needs it, as it is assuming we've passed it a real\n",
       "    // web socket which is closed, not our websocket->open comm proxy.\n",
       "    ws_proxy.onopen();\n",
       "\n",
       "    fig.parent_element = element.get(0);\n",
       "    fig.cell_info = mpl.find_output_cell(\"<div id='\" + id + \"'></div>\");\n",
       "    if (!fig.cell_info) {\n",
       "        console.error(\"Failed to find cell for figure\", id, fig);\n",
       "        return;\n",
       "    }\n",
       "\n",
       "    var output_index = fig.cell_info[2]\n",
       "    var cell = fig.cell_info[0];\n",
       "\n",
       "};\n",
       "\n",
       "mpl.figure.prototype.handle_close = function(fig, msg) {\n",
       "    var width = fig.canvas.width/mpl.ratio\n",
       "    fig.root.unbind('remove')\n",
       "\n",
       "    // Update the output cell to use the data from the current canvas.\n",
       "    fig.push_to_output();\n",
       "    var dataURL = fig.canvas.toDataURL();\n",
       "    // Re-enable the keyboard manager in IPython - without this line, in FF,\n",
       "    // the notebook keyboard shortcuts fail.\n",
       "    IPython.keyboard_manager.enable()\n",
       "    $(fig.parent_element).html('<img src=\"' + dataURL + '\" width=\"' + width + '\">');\n",
       "    fig.close_ws(fig, msg);\n",
       "}\n",
       "\n",
       "mpl.figure.prototype.close_ws = function(fig, msg){\n",
       "    fig.send_message('closing', msg);\n",
       "    // fig.ws.close()\n",
       "}\n",
       "\n",
       "mpl.figure.prototype.push_to_output = function(remove_interactive) {\n",
       "    // Turn the data on the canvas into data in the output cell.\n",
       "    var width = this.canvas.width/mpl.ratio\n",
       "    var dataURL = this.canvas.toDataURL();\n",
       "    this.cell_info[1]['text/html'] = '<img src=\"' + dataURL + '\" width=\"' + width + '\">';\n",
       "}\n",
       "\n",
       "mpl.figure.prototype.updated_canvas_event = function() {\n",
       "    // Tell IPython that the notebook contents must change.\n",
       "    IPython.notebook.set_dirty(true);\n",
       "    this.send_message(\"ack\", {});\n",
       "    var fig = this;\n",
       "    // Wait a second, then push the new image to the DOM so\n",
       "    // that it is saved nicely (might be nice to debounce this).\n",
       "    setTimeout(function () { fig.push_to_output() }, 1000);\n",
       "}\n",
       "\n",
       "mpl.figure.prototype._init_toolbar = function() {\n",
       "    var fig = this;\n",
       "\n",
       "    var nav_element = $('<div/>');\n",
       "    nav_element.attr('style', 'width: 100%');\n",
       "    this.root.append(nav_element);\n",
       "\n",
       "    // Define a callback function for later on.\n",
       "    function toolbar_event(event) {\n",
       "        return fig.toolbar_button_onclick(event['data']);\n",
       "    }\n",
       "    function toolbar_mouse_event(event) {\n",
       "        return fig.toolbar_button_onmouseover(event['data']);\n",
       "    }\n",
       "\n",
       "    for(var toolbar_ind in mpl.toolbar_items){\n",
       "        var name = mpl.toolbar_items[toolbar_ind][0];\n",
       "        var tooltip = mpl.toolbar_items[toolbar_ind][1];\n",
       "        var image = mpl.toolbar_items[toolbar_ind][2];\n",
       "        var method_name = mpl.toolbar_items[toolbar_ind][3];\n",
       "\n",
       "        if (!name) { continue; };\n",
       "\n",
       "        var button = $('<button class=\"btn btn-default\" href=\"#\" title=\"' + name + '\"><i class=\"fa ' + image + ' fa-lg\"></i></button>');\n",
       "        button.click(method_name, toolbar_event);\n",
       "        button.mouseover(tooltip, toolbar_mouse_event);\n",
       "        nav_element.append(button);\n",
       "    }\n",
       "\n",
       "    // Add the status bar.\n",
       "    var status_bar = $('<span class=\"mpl-message\" style=\"text-align:right; float: right;\"/>');\n",
       "    nav_element.append(status_bar);\n",
       "    this.message = status_bar[0];\n",
       "\n",
       "    // Add the close button to the window.\n",
       "    var buttongrp = $('<div class=\"btn-group inline pull-right\"></div>');\n",
       "    var button = $('<button class=\"btn btn-mini btn-primary\" href=\"#\" title=\"Stop Interaction\"><i class=\"fa fa-power-off icon-remove icon-large\"></i></button>');\n",
       "    button.click(function (evt) { fig.handle_close(fig, {}); } );\n",
       "    button.mouseover('Stop Interaction', toolbar_mouse_event);\n",
       "    buttongrp.append(button);\n",
       "    var titlebar = this.root.find($('.ui-dialog-titlebar'));\n",
       "    titlebar.prepend(buttongrp);\n",
       "}\n",
       "\n",
       "mpl.figure.prototype._root_extra_style = function(el){\n",
       "    var fig = this\n",
       "    el.on(\"remove\", function(){\n",
       "\tfig.close_ws(fig, {});\n",
       "    });\n",
       "}\n",
       "\n",
       "mpl.figure.prototype._canvas_extra_style = function(el){\n",
       "    // this is important to make the div 'focusable\n",
       "    el.attr('tabindex', 0)\n",
       "    // reach out to IPython and tell the keyboard manager to turn it's self\n",
       "    // off when our div gets focus\n",
       "\n",
       "    // location in version 3\n",
       "    if (IPython.notebook.keyboard_manager) {\n",
       "        IPython.notebook.keyboard_manager.register_events(el);\n",
       "    }\n",
       "    else {\n",
       "        // location in version 2\n",
       "        IPython.keyboard_manager.register_events(el);\n",
       "    }\n",
       "\n",
       "}\n",
       "\n",
       "mpl.figure.prototype._key_event_extra = function(event, name) {\n",
       "    var manager = IPython.notebook.keyboard_manager;\n",
       "    if (!manager)\n",
       "        manager = IPython.keyboard_manager;\n",
       "\n",
       "    // Check for shift+enter\n",
       "    if (event.shiftKey && event.which == 13) {\n",
       "        this.canvas_div.blur();\n",
       "        // select the cell after this one\n",
       "        var index = IPython.notebook.find_cell_index(this.cell_info[0]);\n",
       "        IPython.notebook.select(index + 1);\n",
       "    }\n",
       "}\n",
       "\n",
       "mpl.figure.prototype.handle_save = function(fig, msg) {\n",
       "    fig.ondownload(fig, null);\n",
       "}\n",
       "\n",
       "\n",
       "mpl.find_output_cell = function(html_output) {\n",
       "    // Return the cell and output element which can be found *uniquely* in the notebook.\n",
       "    // Note - this is a bit hacky, but it is done because the \"notebook_saving.Notebook\"\n",
       "    // IPython event is triggered only after the cells have been serialised, which for\n",
       "    // our purposes (turning an active figure into a static one), is too late.\n",
       "    var cells = IPython.notebook.get_cells();\n",
       "    var ncells = cells.length;\n",
       "    for (var i=0; i<ncells; i++) {\n",
       "        var cell = cells[i];\n",
       "        if (cell.cell_type === 'code'){\n",
       "            for (var j=0; j<cell.output_area.outputs.length; j++) {\n",
       "                var data = cell.output_area.outputs[j];\n",
       "                if (data.data) {\n",
       "                    // IPython >= 3 moved mimebundle to data attribute of output\n",
       "                    data = data.data;\n",
       "                }\n",
       "                if (data['text/html'] == html_output) {\n",
       "                    return [cell, data, j];\n",
       "                }\n",
       "            }\n",
       "        }\n",
       "    }\n",
       "}\n",
       "\n",
       "// Register the function which deals with the matplotlib target/channel.\n",
       "// The kernel may be null if the page has been refreshed.\n",
       "if (IPython.notebook.kernel != null) {\n",
       "    IPython.notebook.kernel.comm_manager.register_target('matplotlib', mpl.mpl_figure_comm);\n",
       "}\n"
      ],
      "text/plain": [
       "<IPython.core.display.Javascript object>"
      ]
     },
     "metadata": {},
     "output_type": "display_data"
    },
    {
     "data": {
      "text/html": [
       "<img src=\"data:image/png;base64,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\" width=\"999.1666666666667\">"
      ],
      "text/plain": [
       "<IPython.core.display.HTML object>"
      ]
     },
     "metadata": {},
     "output_type": "display_data"
    }
   ],
   "source": [
    "plot_subplot(df_train, ['object', 'bool'])"
   ]
  },
  {
   "cell_type": "markdown",
   "metadata": {},
   "source": [
    "#### Autoencoder for categorical feature of N variables"
   ]
  },
  {
   "cell_type": "code",
   "execution_count": 10,
   "metadata": {},
   "outputs": [
    {
     "data": {
      "text/plain": [
       "{'cat_2_feat_train': Index(['Street', 'CentralAir'], dtype='object'),\n",
       " 'cat_2_feat_test': Index(['Street', 'CentralAir'], dtype='object'),\n",
       " 'cat_3_feat_train': Index(['LandSlope', 'PavedDrive'], dtype='object'),\n",
       " 'cat_3_feat_test': Index(['LandSlope', 'PavedDrive'], dtype='object'),\n",
       " 'cat_4_feat_train': Index(['LotShape', 'LandContour', 'MasVnrType', 'ExterQual', 'BsmtQual',\n",
       "        'BsmtExposure', 'KitchenQual'],\n",
       "       dtype='object'),\n",
       " 'cat_4_feat_test': Index(['LotShape', 'LandContour', 'RoofMatl', 'MasVnrType', 'ExterQual',\n",
       "        'BsmtQual', 'BsmtExposure', 'Heating', 'KitchenQual'],\n",
       "       dtype='object'),\n",
       " 'cat_5_feat_train': Index(['MSZoning', 'LotConfig', 'BldgType', 'ExterCond', 'HeatingQC'], dtype='object'),\n",
       " 'cat_5_feat_test': Index(['MSZoning', 'LotConfig', 'Condition2', 'BldgType', 'ExterCond',\n",
       "        'HeatingQC'],\n",
       "       dtype='object'),\n",
       " 'cat_6_feat_train': Index(['RoofStyle', 'Foundation', 'BsmtFinType1', 'Heating', 'SaleCondition'], dtype='object'),\n",
       " 'cat_6_feat_test': Index(['RoofStyle', 'Foundation', 'BsmtFinType1', 'SaleCondition'], dtype='object'),\n",
       " 'cat_7_feat_train': Index([], dtype='object'),\n",
       " 'cat_7_feat_test': Index(['HouseStyle'], dtype='object'),\n",
       " 'cat_8_feat_train': Index(['Condition2', 'HouseStyle', 'RoofMatl'], dtype='object'),\n",
       " 'cat_8_feat_test': Index([], dtype='object')}"
      ]
     },
     "execution_count": 10,
     "metadata": {},
     "output_type": "execute_result"
    }
   ],
   "source": [
    "# Find categorical features with N vaiable in training dataset\n",
    "def cat_uniq_list(dataset, label, N):\n",
    "    \n",
    "    column_obj = col_type_list(dataset, ['object', 'bool'])\n",
    "    cat_uniq = dataset[column_obj].nunique()\n",
    "    name = 'cat_{}_feat_'.format(N) + label\n",
    "    uniq_list = cat_uniq[cat_uniq == N].index\n",
    "    return{name: uniq_list}\n",
    "\n",
    "dic = {}        \n",
    "for i in range(2, 9, 1):       \n",
    "    dic.update(cat_uniq_list(df_train, 'train', i))\n",
    "    dic.update(cat_uniq_list(df_test, 'test', i))\n",
    "dic"
   ]
  },
  {
   "cell_type": "code",
   "execution_count": 11,
   "metadata": {},
   "outputs": [
    {
     "data": {
      "text/html": [
       "<div>\n",
       "<style scoped>\n",
       "    .dataframe tbody tr th:only-of-type {\n",
       "        vertical-align: middle;\n",
       "    }\n",
       "\n",
       "    .dataframe tbody tr th {\n",
       "        vertical-align: top;\n",
       "    }\n",
       "\n",
       "    .dataframe thead th {\n",
       "        text-align: right;\n",
       "    }\n",
       "</style>\n",
       "<table border=\"1\" class=\"dataframe\">\n",
       "  <thead>\n",
       "    <tr style=\"text-align: right;\">\n",
       "      <th></th>\n",
       "      <th>Train</th>\n",
       "      <th>Test</th>\n",
       "      <th>train - test</th>\n",
       "    </tr>\n",
       "  </thead>\n",
       "  <tbody>\n",
       "    <tr>\n",
       "      <th>MSZoning</th>\n",
       "      <td>5</td>\n",
       "      <td>5</td>\n",
       "      <td>0</td>\n",
       "    </tr>\n",
       "    <tr>\n",
       "      <th>Street</th>\n",
       "      <td>2</td>\n",
       "      <td>2</td>\n",
       "      <td>0</td>\n",
       "    </tr>\n",
       "    <tr>\n",
       "      <th>LotShape</th>\n",
       "      <td>4</td>\n",
       "      <td>4</td>\n",
       "      <td>0</td>\n",
       "    </tr>\n",
       "    <tr>\n",
       "      <th>LandContour</th>\n",
       "      <td>4</td>\n",
       "      <td>4</td>\n",
       "      <td>0</td>\n",
       "    </tr>\n",
       "    <tr>\n",
       "      <th>LotConfig</th>\n",
       "      <td>5</td>\n",
       "      <td>5</td>\n",
       "      <td>0</td>\n",
       "    </tr>\n",
       "    <tr>\n",
       "      <th>LandSlope</th>\n",
       "      <td>3</td>\n",
       "      <td>3</td>\n",
       "      <td>0</td>\n",
       "    </tr>\n",
       "    <tr>\n",
       "      <th>Neighborhood</th>\n",
       "      <td>25</td>\n",
       "      <td>25</td>\n",
       "      <td>0</td>\n",
       "    </tr>\n",
       "    <tr>\n",
       "      <th>Condition1</th>\n",
       "      <td>9</td>\n",
       "      <td>9</td>\n",
       "      <td>0</td>\n",
       "    </tr>\n",
       "    <tr>\n",
       "      <th>Condition2</th>\n",
       "      <td>8</td>\n",
       "      <td>5</td>\n",
       "      <td>3</td>\n",
       "    </tr>\n",
       "    <tr>\n",
       "      <th>BldgType</th>\n",
       "      <td>5</td>\n",
       "      <td>5</td>\n",
       "      <td>0</td>\n",
       "    </tr>\n",
       "    <tr>\n",
       "      <th>HouseStyle</th>\n",
       "      <td>8</td>\n",
       "      <td>7</td>\n",
       "      <td>1</td>\n",
       "    </tr>\n",
       "    <tr>\n",
       "      <th>RoofStyle</th>\n",
       "      <td>6</td>\n",
       "      <td>6</td>\n",
       "      <td>0</td>\n",
       "    </tr>\n",
       "    <tr>\n",
       "      <th>RoofMatl</th>\n",
       "      <td>8</td>\n",
       "      <td>4</td>\n",
       "      <td>4</td>\n",
       "    </tr>\n",
       "    <tr>\n",
       "      <th>Exterior1st</th>\n",
       "      <td>15</td>\n",
       "      <td>13</td>\n",
       "      <td>2</td>\n",
       "    </tr>\n",
       "    <tr>\n",
       "      <th>Exterior2nd</th>\n",
       "      <td>16</td>\n",
       "      <td>15</td>\n",
       "      <td>1</td>\n",
       "    </tr>\n",
       "    <tr>\n",
       "      <th>MasVnrType</th>\n",
       "      <td>4</td>\n",
       "      <td>4</td>\n",
       "      <td>0</td>\n",
       "    </tr>\n",
       "    <tr>\n",
       "      <th>ExterQual</th>\n",
       "      <td>4</td>\n",
       "      <td>4</td>\n",
       "      <td>0</td>\n",
       "    </tr>\n",
       "    <tr>\n",
       "      <th>ExterCond</th>\n",
       "      <td>5</td>\n",
       "      <td>5</td>\n",
       "      <td>0</td>\n",
       "    </tr>\n",
       "    <tr>\n",
       "      <th>Foundation</th>\n",
       "      <td>6</td>\n",
       "      <td>6</td>\n",
       "      <td>0</td>\n",
       "    </tr>\n",
       "    <tr>\n",
       "      <th>BsmtQual</th>\n",
       "      <td>4</td>\n",
       "      <td>4</td>\n",
       "      <td>0</td>\n",
       "    </tr>\n",
       "    <tr>\n",
       "      <th>BsmtExposure</th>\n",
       "      <td>4</td>\n",
       "      <td>4</td>\n",
       "      <td>0</td>\n",
       "    </tr>\n",
       "    <tr>\n",
       "      <th>BsmtFinType1</th>\n",
       "      <td>6</td>\n",
       "      <td>6</td>\n",
       "      <td>0</td>\n",
       "    </tr>\n",
       "    <tr>\n",
       "      <th>Heating</th>\n",
       "      <td>6</td>\n",
       "      <td>4</td>\n",
       "      <td>2</td>\n",
       "    </tr>\n",
       "    <tr>\n",
       "      <th>HeatingQC</th>\n",
       "      <td>5</td>\n",
       "      <td>5</td>\n",
       "      <td>0</td>\n",
       "    </tr>\n",
       "    <tr>\n",
       "      <th>CentralAir</th>\n",
       "      <td>2</td>\n",
       "      <td>2</td>\n",
       "      <td>0</td>\n",
       "    </tr>\n",
       "    <tr>\n",
       "      <th>KitchenQual</th>\n",
       "      <td>4</td>\n",
       "      <td>4</td>\n",
       "      <td>0</td>\n",
       "    </tr>\n",
       "    <tr>\n",
       "      <th>PavedDrive</th>\n",
       "      <td>3</td>\n",
       "      <td>3</td>\n",
       "      <td>0</td>\n",
       "    </tr>\n",
       "    <tr>\n",
       "      <th>SaleCondition</th>\n",
       "      <td>6</td>\n",
       "      <td>6</td>\n",
       "      <td>0</td>\n",
       "    </tr>\n",
       "  </tbody>\n",
       "</table>\n",
       "</div>"
      ],
      "text/plain": [
       "               Train  Test  train - test\n",
       "MSZoning           5     5             0\n",
       "Street             2     2             0\n",
       "LotShape           4     4             0\n",
       "LandContour        4     4             0\n",
       "LotConfig          5     5             0\n",
       "LandSlope          3     3             0\n",
       "Neighborhood      25    25             0\n",
       "Condition1         9     9             0\n",
       "Condition2         8     5             3\n",
       "BldgType           5     5             0\n",
       "HouseStyle         8     7             1\n",
       "RoofStyle          6     6             0\n",
       "RoofMatl           8     4             4\n",
       "Exterior1st       15    13             2\n",
       "Exterior2nd       16    15             1\n",
       "MasVnrType         4     4             0\n",
       "ExterQual          4     4             0\n",
       "ExterCond          5     5             0\n",
       "Foundation         6     6             0\n",
       "BsmtQual           4     4             0\n",
       "BsmtExposure       4     4             0\n",
       "BsmtFinType1       6     6             0\n",
       "Heating            6     4             2\n",
       "HeatingQC          5     5             0\n",
       "CentralAir         2     2             0\n",
       "KitchenQual        4     4             0\n",
       "PavedDrive         3     3             0\n",
       "SaleCondition      6     6             0"
      ]
     },
     "execution_count": 11,
     "metadata": {},
     "output_type": "execute_result"
    }
   ],
   "source": [
    "# Compare number of variables in training and test datasets for each feature\n",
    "ddic = {}\n",
    "def var_check():\n",
    "    for dataset, label in zip([df_train, df_test], ['train', 'test']):\n",
    "        column_obj = col_type_list(dataset, ['object', 'bool'])\n",
    "        cat_uniq = dataset[column_obj].nunique()\n",
    "        name = 'cat_uniq_' + label\n",
    "        ddic.update({name: cat_uniq})\n",
    "\n",
    "    df_compare = pd.DataFrame({'Train': ddic['cat_uniq_train'], 'Test': ddic['cat_uniq_test']})\n",
    "    df_compare['train - test'] = df_compare['Train'] - df_compare['Test']\n",
    "    df_compare[df_compare['train - test']>=0].sort_values(by = 'train - test', ascending = False)\n",
    "    \n",
    "    return df_compare\n",
    "dfff = var_check()\n",
    "dfff"
   ]
  },
  {
   "cell_type": "code",
   "execution_count": 12,
   "metadata": {},
   "outputs": [
    {
     "data": {
      "text/plain": [
       "Index(['Condition2', 'HouseStyle', 'RoofMatl', 'Exterior1st', 'Exterior2nd',\n",
       "       'Heating'],\n",
       "      dtype='object')"
      ]
     },
     "execution_count": 12,
     "metadata": {},
     "output_type": "execute_result"
    }
   ],
   "source": [
    "# Delete those object columns in training and test sets with different number of variables\n",
    "del_diff_var = dfff[dfff['train - test'] > 0].index\n",
    "del_diff_var"
   ]
  },
  {
   "cell_type": "code",
   "execution_count": 13,
   "metadata": {},
   "outputs": [
    {
     "name": "stdout",
     "output_type": "stream",
     "text": [
      "(1460, 59) (1459, 58)\n"
     ]
    }
   ],
   "source": [
    "# Delete columns with any different number of features\n",
    "df_train.drop(columns = del_diff_var, inplace = True)\n",
    "df_test.drop(columns = del_diff_var, inplace = True)\n",
    "print(df_train.shape, df_test.shape)"
   ]
  },
  {
   "cell_type": "code",
   "execution_count": 14,
   "metadata": {},
   "outputs": [
    {
     "data": {
      "text/html": [
       "<div>\n",
       "<style scoped>\n",
       "    .dataframe tbody tr th:only-of-type {\n",
       "        vertical-align: middle;\n",
       "    }\n",
       "\n",
       "    .dataframe tbody tr th {\n",
       "        vertical-align: top;\n",
       "    }\n",
       "\n",
       "    .dataframe thead th {\n",
       "        text-align: right;\n",
       "    }\n",
       "</style>\n",
       "<table border=\"1\" class=\"dataframe\">\n",
       "  <thead>\n",
       "    <tr style=\"text-align: right;\">\n",
       "      <th></th>\n",
       "      <th>Train</th>\n",
       "      <th>Test</th>\n",
       "      <th>train - test</th>\n",
       "    </tr>\n",
       "  </thead>\n",
       "  <tbody>\n",
       "    <tr>\n",
       "      <th>Street</th>\n",
       "      <td>2</td>\n",
       "      <td>2</td>\n",
       "      <td>0</td>\n",
       "    </tr>\n",
       "    <tr>\n",
       "      <th>CentralAir</th>\n",
       "      <td>2</td>\n",
       "      <td>2</td>\n",
       "      <td>0</td>\n",
       "    </tr>\n",
       "    <tr>\n",
       "      <th>LandSlope</th>\n",
       "      <td>3</td>\n",
       "      <td>3</td>\n",
       "      <td>0</td>\n",
       "    </tr>\n",
       "    <tr>\n",
       "      <th>PavedDrive</th>\n",
       "      <td>3</td>\n",
       "      <td>3</td>\n",
       "      <td>0</td>\n",
       "    </tr>\n",
       "    <tr>\n",
       "      <th>MasVnrType</th>\n",
       "      <td>4</td>\n",
       "      <td>4</td>\n",
       "      <td>0</td>\n",
       "    </tr>\n",
       "    <tr>\n",
       "      <th>LotShape</th>\n",
       "      <td>4</td>\n",
       "      <td>4</td>\n",
       "      <td>0</td>\n",
       "    </tr>\n",
       "    <tr>\n",
       "      <th>LandContour</th>\n",
       "      <td>4</td>\n",
       "      <td>4</td>\n",
       "      <td>0</td>\n",
       "    </tr>\n",
       "    <tr>\n",
       "      <th>KitchenQual</th>\n",
       "      <td>4</td>\n",
       "      <td>4</td>\n",
       "      <td>0</td>\n",
       "    </tr>\n",
       "    <tr>\n",
       "      <th>BsmtExposure</th>\n",
       "      <td>4</td>\n",
       "      <td>4</td>\n",
       "      <td>0</td>\n",
       "    </tr>\n",
       "    <tr>\n",
       "      <th>BsmtQual</th>\n",
       "      <td>4</td>\n",
       "      <td>4</td>\n",
       "      <td>0</td>\n",
       "    </tr>\n",
       "    <tr>\n",
       "      <th>ExterQual</th>\n",
       "      <td>4</td>\n",
       "      <td>4</td>\n",
       "      <td>0</td>\n",
       "    </tr>\n",
       "    <tr>\n",
       "      <th>HeatingQC</th>\n",
       "      <td>5</td>\n",
       "      <td>5</td>\n",
       "      <td>0</td>\n",
       "    </tr>\n",
       "    <tr>\n",
       "      <th>MSZoning</th>\n",
       "      <td>5</td>\n",
       "      <td>5</td>\n",
       "      <td>0</td>\n",
       "    </tr>\n",
       "    <tr>\n",
       "      <th>BldgType</th>\n",
       "      <td>5</td>\n",
       "      <td>5</td>\n",
       "      <td>0</td>\n",
       "    </tr>\n",
       "    <tr>\n",
       "      <th>LotConfig</th>\n",
       "      <td>5</td>\n",
       "      <td>5</td>\n",
       "      <td>0</td>\n",
       "    </tr>\n",
       "    <tr>\n",
       "      <th>ExterCond</th>\n",
       "      <td>5</td>\n",
       "      <td>5</td>\n",
       "      <td>0</td>\n",
       "    </tr>\n",
       "    <tr>\n",
       "      <th>Foundation</th>\n",
       "      <td>6</td>\n",
       "      <td>6</td>\n",
       "      <td>0</td>\n",
       "    </tr>\n",
       "    <tr>\n",
       "      <th>RoofStyle</th>\n",
       "      <td>6</td>\n",
       "      <td>6</td>\n",
       "      <td>0</td>\n",
       "    </tr>\n",
       "    <tr>\n",
       "      <th>BsmtFinType1</th>\n",
       "      <td>6</td>\n",
       "      <td>6</td>\n",
       "      <td>0</td>\n",
       "    </tr>\n",
       "    <tr>\n",
       "      <th>SaleCondition</th>\n",
       "      <td>6</td>\n",
       "      <td>6</td>\n",
       "      <td>0</td>\n",
       "    </tr>\n",
       "    <tr>\n",
       "      <th>Condition1</th>\n",
       "      <td>9</td>\n",
       "      <td>9</td>\n",
       "      <td>0</td>\n",
       "    </tr>\n",
       "    <tr>\n",
       "      <th>Neighborhood</th>\n",
       "      <td>25</td>\n",
       "      <td>25</td>\n",
       "      <td>0</td>\n",
       "    </tr>\n",
       "  </tbody>\n",
       "</table>\n",
       "</div>"
      ],
      "text/plain": [
       "               Train  Test  train - test\n",
       "Street             2     2             0\n",
       "CentralAir         2     2             0\n",
       "LandSlope          3     3             0\n",
       "PavedDrive         3     3             0\n",
       "MasVnrType         4     4             0\n",
       "LotShape           4     4             0\n",
       "LandContour        4     4             0\n",
       "KitchenQual        4     4             0\n",
       "BsmtExposure       4     4             0\n",
       "BsmtQual           4     4             0\n",
       "ExterQual          4     4             0\n",
       "HeatingQC          5     5             0\n",
       "MSZoning           5     5             0\n",
       "BldgType           5     5             0\n",
       "LotConfig          5     5             0\n",
       "ExterCond          5     5             0\n",
       "Foundation         6     6             0\n",
       "RoofStyle          6     6             0\n",
       "BsmtFinType1       6     6             0\n",
       "SaleCondition      6     6             0\n",
       "Condition1         9     9             0\n",
       "Neighborhood      25    25             0"
      ]
     },
     "execution_count": 14,
     "metadata": {},
     "output_type": "execute_result"
    }
   ],
   "source": [
    "dic = {}        \n",
    "for i in range(2, 9, 1):       \n",
    "    dic.update(cat_uniq_list(df_train, 'train', i))\n",
    "    dic.update(cat_uniq_list(df_test, 'test', i))\n",
    "var_check().sort_values(by = 'Train')"
   ]
  },
  {
   "cell_type": "code",
   "execution_count": 15,
   "metadata": {},
   "outputs": [],
   "source": [
    "# Encode features with two variables\n",
    "from sklearn.preprocessing import LabelEncoder, OneHotEncoder\n",
    "from sklearn.compose import ColumnTransformer\n",
    "labelencoder_X_2 = LabelEncoder()"
   ]
  },
  {
   "cell_type": "code",
   "execution_count": 16,
   "metadata": {},
   "outputs": [
    {
     "data": {
      "text/html": [
       "<div>\n",
       "<style scoped>\n",
       "    .dataframe tbody tr th:only-of-type {\n",
       "        vertical-align: middle;\n",
       "    }\n",
       "\n",
       "    .dataframe tbody tr th {\n",
       "        vertical-align: top;\n",
       "    }\n",
       "\n",
       "    .dataframe thead th {\n",
       "        text-align: right;\n",
       "    }\n",
       "</style>\n",
       "<table border=\"1\" class=\"dataframe\">\n",
       "  <thead>\n",
       "    <tr style=\"text-align: right;\">\n",
       "      <th></th>\n",
       "      <th>Street</th>\n",
       "      <th>CentralAir</th>\n",
       "    </tr>\n",
       "  </thead>\n",
       "  <tbody>\n",
       "    <tr>\n",
       "      <th>0</th>\n",
       "      <td>Pave</td>\n",
       "      <td>Y</td>\n",
       "    </tr>\n",
       "    <tr>\n",
       "      <th>1</th>\n",
       "      <td>Pave</td>\n",
       "      <td>Y</td>\n",
       "    </tr>\n",
       "    <tr>\n",
       "      <th>2</th>\n",
       "      <td>Pave</td>\n",
       "      <td>Y</td>\n",
       "    </tr>\n",
       "    <tr>\n",
       "      <th>3</th>\n",
       "      <td>Pave</td>\n",
       "      <td>Y</td>\n",
       "    </tr>\n",
       "    <tr>\n",
       "      <th>4</th>\n",
       "      <td>Pave</td>\n",
       "      <td>Y</td>\n",
       "    </tr>\n",
       "  </tbody>\n",
       "</table>\n",
       "</div>"
      ],
      "text/plain": [
       "  Street CentralAir\n",
       "0   Pave          Y\n",
       "1   Pave          Y\n",
       "2   Pave          Y\n",
       "3   Pave          Y\n",
       "4   Pave          Y"
      ]
     },
     "execution_count": 16,
     "metadata": {},
     "output_type": "execute_result"
    }
   ],
   "source": [
    "df_train[dic['cat_2_feat_train']].head()"
   ]
  },
  {
   "cell_type": "code",
   "execution_count": 17,
   "metadata": {},
   "outputs": [
    {
     "data": {
      "text/html": [
       "<div>\n",
       "<style scoped>\n",
       "    .dataframe tbody tr th:only-of-type {\n",
       "        vertical-align: middle;\n",
       "    }\n",
       "\n",
       "    .dataframe tbody tr th {\n",
       "        vertical-align: top;\n",
       "    }\n",
       "\n",
       "    .dataframe thead th {\n",
       "        text-align: right;\n",
       "    }\n",
       "</style>\n",
       "<table border=\"1\" class=\"dataframe\">\n",
       "  <thead>\n",
       "    <tr style=\"text-align: right;\">\n",
       "      <th></th>\n",
       "      <th>Street</th>\n",
       "      <th>CentralAir</th>\n",
       "    </tr>\n",
       "  </thead>\n",
       "  <tbody>\n",
       "    <tr>\n",
       "      <th>0</th>\n",
       "      <td>1</td>\n",
       "      <td>1</td>\n",
       "    </tr>\n",
       "    <tr>\n",
       "      <th>1</th>\n",
       "      <td>1</td>\n",
       "      <td>1</td>\n",
       "    </tr>\n",
       "    <tr>\n",
       "      <th>2</th>\n",
       "      <td>1</td>\n",
       "      <td>1</td>\n",
       "    </tr>\n",
       "    <tr>\n",
       "      <th>3</th>\n",
       "      <td>1</td>\n",
       "      <td>1</td>\n",
       "    </tr>\n",
       "    <tr>\n",
       "      <th>4</th>\n",
       "      <td>1</td>\n",
       "      <td>1</td>\n",
       "    </tr>\n",
       "  </tbody>\n",
       "</table>\n",
       "</div>"
      ],
      "text/plain": [
       "   Street  CentralAir\n",
       "0       1           1\n",
       "1       1           1\n",
       "2       1           1\n",
       "3       1           1\n",
       "4       1           1"
      ]
     },
     "execution_count": 17,
     "metadata": {},
     "output_type": "execute_result"
    }
   ],
   "source": [
    "#Atuencoding for 2-variable categorical features in training dataset\n",
    "for i in dic['cat_2_feat_train']:\n",
    "    df_train[i] = labelencoder_X_2.fit_transform(df_train[i])\n",
    "df_train[dic['cat_2_feat_train']].head()"
   ]
  },
  {
   "cell_type": "code",
   "execution_count": 18,
   "metadata": {},
   "outputs": [
    {
     "data": {
      "text/html": [
       "<div>\n",
       "<style scoped>\n",
       "    .dataframe tbody tr th:only-of-type {\n",
       "        vertical-align: middle;\n",
       "    }\n",
       "\n",
       "    .dataframe tbody tr th {\n",
       "        vertical-align: top;\n",
       "    }\n",
       "\n",
       "    .dataframe thead th {\n",
       "        text-align: right;\n",
       "    }\n",
       "</style>\n",
       "<table border=\"1\" class=\"dataframe\">\n",
       "  <thead>\n",
       "    <tr style=\"text-align: right;\">\n",
       "      <th></th>\n",
       "      <th>Street</th>\n",
       "      <th>CentralAir</th>\n",
       "    </tr>\n",
       "  </thead>\n",
       "  <tbody>\n",
       "    <tr>\n",
       "      <th>0</th>\n",
       "      <td>1</td>\n",
       "      <td>1</td>\n",
       "    </tr>\n",
       "    <tr>\n",
       "      <th>1</th>\n",
       "      <td>1</td>\n",
       "      <td>1</td>\n",
       "    </tr>\n",
       "    <tr>\n",
       "      <th>2</th>\n",
       "      <td>1</td>\n",
       "      <td>1</td>\n",
       "    </tr>\n",
       "    <tr>\n",
       "      <th>3</th>\n",
       "      <td>1</td>\n",
       "      <td>1</td>\n",
       "    </tr>\n",
       "    <tr>\n",
       "      <th>4</th>\n",
       "      <td>1</td>\n",
       "      <td>1</td>\n",
       "    </tr>\n",
       "  </tbody>\n",
       "</table>\n",
       "</div>"
      ],
      "text/plain": [
       "   Street  CentralAir\n",
       "0       1           1\n",
       "1       1           1\n",
       "2       1           1\n",
       "3       1           1\n",
       "4       1           1"
      ]
     },
     "execution_count": 18,
     "metadata": {},
     "output_type": "execute_result"
    }
   ],
   "source": [
    "#Atuencoding for 2-variable categorical features in training dataset\n",
    "for i in dic['cat_2_feat_test']:\n",
    "    df_test[i] = labelencoder_X_2.fit_transform(df_test[i])\n",
    "df_test[dic['cat_2_feat_test']].head()"
   ]
  },
  {
   "cell_type": "code",
   "execution_count": 19,
   "metadata": {},
   "outputs": [
    {
     "name": "stdout",
     "output_type": "stream",
     "text": [
      "Training set dimension: (1460, 59)\n",
      "Test set dimension:     (1459, 58)\n",
      "-----------------------------------------\n",
      "Number of training set object col:  20\n",
      "Number of training set numeric col: 39\n",
      "-----------------------------------------\n",
      "Number of test set object col:  20\n",
      "Number of test set numeric col: 38\n"
     ]
    }
   ],
   "source": [
    "# Check that number of obj columns is reduced by 2\n",
    "dim_check(df_train, df_test)"
   ]
  },
  {
   "cell_type": "code",
   "execution_count": 20,
   "metadata": {},
   "outputs": [],
   "source": [
    "# Define a function to encode  categorical features with more than 2 variables\n",
    "def encode_features(cat_feature, N, dataset):\n",
    "    n = len(cat_feature)\n",
    "    x = dataset[cat_feature]\n",
    "    k = 0\n",
    "    col_name = []\n",
    "    for i in range(n):\n",
    "        columnTransformer = ColumnTransformer([('encoder', OneHotEncoder(), [i + k])], remainder='passthrough') \n",
    "        x = np.array(columnTransformer.fit_transform(x), dtype = np.str)\n",
    "        # Avoid dummy variable trap:\n",
    "        x = x[:, 1:]\n",
    "        k = (N - 2) * (i + 1)\n",
    "        for j in range(1, N, 1):\n",
    "            col_name.append(cat_feature[i] + '_' + str(N) + '_' + str(j))\n",
    "        \n",
    "    df = pd.DataFrame(x, columns = col_name, index = dataset.index)\n",
    "    return df"
   ]
  },
  {
   "cell_type": "code",
   "execution_count": 21,
   "metadata": {},
   "outputs": [
    {
     "name": "stdout",
     "output_type": "stream",
     "text": [
      "(1460, 59)\n",
      "(1460, 65)\n"
     ]
    }
   ],
   "source": [
    "dataset = df_train.copy()\n",
    "print(dataset.shape)\n",
    "df3 = encode_features(dic['cat_3_feat_train'], 3, dataset)\n",
    "df4 = encode_features(dic['cat_4_feat_train'], 4, dataset)\n",
    "df5 = encode_features(dic['cat_5_feat_train'], 5, dataset)\n",
    "df6 = encode_features(dic['cat_6_feat_train'], 6, dataset)\n",
    "\n",
    "df_encoded_train =  pd.concat([df3, df4, df5, df6], axis=1)\n",
    "print(df_encoded_train.shape) "
   ]
  },
  {
   "cell_type": "code",
   "execution_count": 22,
   "metadata": {},
   "outputs": [
    {
     "name": "stdout",
     "output_type": "stream",
     "text": [
      "(1459, 58)\n",
      "(1459, 65)\n"
     ]
    }
   ],
   "source": [
    "dataset = df_test.copy()\n",
    "print(dataset.shape)\n",
    "df3 = encode_features(dic['cat_3_feat_test'], 3, dataset)\n",
    "df4 = encode_features(dic['cat_4_feat_test'], 4, dataset)\n",
    "df5 = encode_features(dic['cat_5_feat_test'], 5, dataset)\n",
    "df6 = encode_features(dic['cat_6_feat_test'], 6, dataset)\n",
    "\n",
    "df_encoded_test =  pd.concat([df3, df4, df5, df6], axis=1)\n",
    "print(df_encoded_test.shape) "
   ]
  },
  {
   "cell_type": "markdown",
   "metadata": {},
   "source": [
    "#### Explore Numeric features"
   ]
  },
  {
   "cell_type": "code",
   "execution_count": 23,
   "metadata": {},
   "outputs": [
    {
     "name": "stdout",
     "output_type": "stream",
     "text": [
      "Size of correlation matrix: (29, 37)\n"
     ]
    }
   ],
   "source": [
    "# Return list of features with more than 5 % correlation to SalePrice\n",
    "def correlated_features():\n",
    "    \n",
    "    df_train_num = df_train.select_dtypes(include = ['float64', 'int64'])\n",
    "    df_test_num = df_test.select_dtypes(include = ['float64', 'int64'])\n",
    "    \n",
    "    df_train_corr = df_train_num.corr()\n",
    "    corr_filtered =  df_train_corr[np.abs(df_train_corr['SalePrice']) > 0.05]\n",
    "    print('Size of correlation matrix: {}'.format(corr_filtered.shape))\n",
    "    \n",
    "    return [corr_filtered, df_train_corr, df_train_num, df_test_num]\n",
    "\n",
    "corr_filtered = correlated_features()[0]"
   ]
  },
  {
   "cell_type": "code",
   "execution_count": 24,
   "metadata": {},
   "outputs": [],
   "source": [
    "# Plot correlation matrix in a heat map\n",
    "show_corr  = False\n",
    "if show_corr == True:\n",
    "    %matplotlib notebook\n",
    "    fig = plt.figure(figsize=(10, 10))\n",
    "    dataset = correlated_features()[1]\n",
    "    mask = np.triu(np.ones_like(dataset, dtype=np.bool))\n",
    "    sns_plot = sns.heatmap(dataset, annot=False, mask = mask)\n",
    "    fig = sns_plot.get_figure()\n",
    "    fig.savefig('correlation.png', dip = 500)"
   ]
  },
  {
   "cell_type": "code",
   "execution_count": 25,
   "metadata": {},
   "outputs": [
    {
     "data": {
      "text/plain": [
       "Index(['MSSubClass', 'LotArea', 'OverallQual', 'OverallCond', 'YearBuilt',\n",
       "       'YearRemodAdd', 'MasVnrArea', 'BsmtFinSF1', 'BsmtUnfSF', 'TotalBsmtSF',\n",
       "       '1stFlrSF', '2ndFlrSF', 'GrLivArea', 'BsmtFullBath', 'FullBath',\n",
       "       'HalfBath', 'BedroomAbvGr', 'KitchenAbvGr', 'TotRmsAbvGrd',\n",
       "       'Fireplaces', 'GarageYrBlt', 'GarageCars', 'GarageArea', 'WoodDeckSF',\n",
       "       'OpenPorchSF', 'EnclosedPorch', 'ScreenPorch', 'PoolArea', 'SalePrice'],\n",
       "      dtype='object')"
      ]
     },
     "execution_count": 25,
     "metadata": {},
     "output_type": "execute_result"
    }
   ],
   "source": [
    "col = corr_filtered.index\n",
    "col"
   ]
  },
  {
   "cell_type": "code",
   "execution_count": 26,
   "metadata": {},
   "outputs": [
    {
     "name": "stdout",
     "output_type": "stream",
     "text": [
      "Size of correlation matrix: (29, 37)\n"
     ]
    },
    {
     "data": {
      "text/plain": [
       "(1460, 29)"
      ]
     },
     "execution_count": 26,
     "metadata": {},
     "output_type": "execute_result"
    }
   ],
   "source": [
    "df_train_num_high_corr = correlated_features()[2][col]\n",
    "df_train_num_high_corr.shape"
   ]
  },
  {
   "cell_type": "code",
   "execution_count": 27,
   "metadata": {},
   "outputs": [
    {
     "data": {
      "text/plain": [
       "Index(['MasVnrArea', 'GarageYrBlt'], dtype='object')"
      ]
     },
     "execution_count": 27,
     "metadata": {},
     "output_type": "execute_result"
    }
   ],
   "source": [
    "# find nan values in train dataset\n",
    "a = df_train_num_high_corr.isnull().sum()\n",
    "a[a > 0].index\n"
   ]
  },
  {
   "cell_type": "code",
   "execution_count": 28,
   "metadata": {},
   "outputs": [
    {
     "name": "stdout",
     "output_type": "stream",
     "text": [
      "MasVnrArea      8\n",
      "GarageYrBlt    81\n",
      "dtype: int64\n"
     ]
    }
   ],
   "source": [
    "def fill_nan(dataset):\n",
    "    serie_nan = dataset.isnull().sum()\n",
    "    print(serie_nan[serie_nan > 0])\n",
    "    list_nan_index = serie_nan[serie_nan > 0].index\n",
    "    \n",
    "    for i in list_nan_index:\n",
    "        dataset[i].fillna(dataset[i].mean(), inplace = True)\n",
    "\n",
    "    \n",
    "fill_nan(df_train_num_high_corr)"
   ]
  },
  {
   "cell_type": "code",
   "execution_count": 29,
   "metadata": {},
   "outputs": [
    {
     "data": {
      "text/plain": [
       "(1460, 28)"
      ]
     },
     "execution_count": 29,
     "metadata": {},
     "output_type": "execute_result"
    }
   ],
   "source": [
    "y = df_train_num_high_corr['SalePrice']\n",
    "x_frame = df_train_num_high_corr[col[:-1]]\n",
    "x = df_train_num_high_corr[col[:-1]].values\n",
    "x.shape"
   ]
  },
  {
   "cell_type": "markdown",
   "metadata": {},
   "source": [
    "### Backward elimination with p-value only"
   ]
  },
  {
   "cell_type": "code",
   "execution_count": 30,
   "metadata": {},
   "outputs": [
    {
     "name": "stdout",
     "output_type": "stream",
     "text": [
      "                                 OLS Regression Results                                \n",
      "=======================================================================================\n",
      "Dep. Variable:              SalePrice   R-squared (uncentered):                   0.968\n",
      "Model:                            OLS   Adj. R-squared (uncentered):              0.968\n",
      "Method:                 Least Squares   F-statistic:                              2316.\n",
      "Date:                Thu, 21 May 2020   Prob (F-statistic):                        0.00\n",
      "Time:                        07:21:59   Log-Likelihood:                         -17356.\n",
      "No. Observations:                1460   AIC:                                  3.475e+04\n",
      "Df Residuals:                    1441   BIC:                                  3.485e+04\n",
      "Df Model:                          19                                                  \n",
      "Covariance Type:            nonrobust                                                  \n",
      "==============================================================================\n",
      "                 coef    std err          t      P>|t|      [0.025      0.975]\n",
      "------------------------------------------------------------------------------\n",
      "x1          -160.1131     26.384     -6.069      0.000    -211.869    -108.358\n",
      "x2             0.3652      0.101      3.626      0.000       0.168       0.563\n",
      "x3          2.041e+04   1132.220     18.031      0.000    1.82e+04    2.26e+04\n",
      "x4          4030.9934   1021.062      3.948      0.000    2028.065    6033.921\n",
      "x5           116.6804     49.841      2.341      0.019      18.911     214.450\n",
      "x6          -153.1592     50.761     -3.017      0.003    -252.732     -53.587\n",
      "x7            32.2426      6.005      5.369      0.000      20.462      44.023\n",
      "x8             9.6396      3.107      3.103      0.002       3.545      15.734\n",
      "x9            10.7327      4.191      2.561      0.011       2.512      18.953\n",
      "x10           42.9299      5.536      7.755      0.000      32.071      53.789\n",
      "x11           42.4918      4.217     10.077      0.000      34.220      50.764\n",
      "x12         1.108e+04   2424.999      4.569      0.000    6323.708    1.58e+04\n",
      "x13         1.205e+04   2458.630      4.901      0.000    7227.412    1.69e+04\n",
      "x14        -1.206e+04   1691.893     -7.126      0.000   -1.54e+04   -8737.198\n",
      "x15        -2.119e+04   5110.214     -4.147      0.000   -3.12e+04   -1.12e+04\n",
      "x16         5499.5462   1233.944      4.457      0.000    3079.027    7920.066\n",
      "x17          1.32e+04   1685.421      7.831      0.000    9892.096    1.65e+04\n",
      "x18           30.9351      7.980      3.877      0.000      15.282      46.588\n",
      "x19           46.6858     16.986      2.749      0.006      13.367      80.005\n",
      "==============================================================================\n",
      "Omnibus:                      626.496   Durbin-Watson:                   1.948\n",
      "Prob(Omnibus):                  0.000   Jarque-Bera (JB):            87381.326\n",
      "Skew:                          -0.936   Prob(JB):                         0.00\n",
      "Kurtosis:                      40.854   Cond. No.                     8.16e+04\n",
      "==============================================================================\n",
      "\n",
      "Warnings:\n",
      "[1] Standard Errors assume that the covariance matrix of the errors is correctly specified.\n",
      "[2] The condition number is large, 8.16e+04. This might indicate that there are\n",
      "strong multicollinearity or other numerical problems.\n"
     ]
    }
   ],
   "source": [
    "# Extract important features of numerical features using p-value\n",
    "import statsmodels.regression.linear_model as sm\n",
    "def backwardElimination_p(x, sl):\n",
    "    numVars = len(x[0])\n",
    "    for i in range(0, numVars):\n",
    "        regressor_OLS = sm.OLS(y, x).fit() \n",
    "        maxVar = max(regressor_OLS.pvalues)#.astype(float)\n",
    "        if maxVar > sl:\n",
    "            for j in range(0, numVars - i):\n",
    "                if (regressor_OLS.pvalues[j].astype(float) == maxVar):\n",
    "                    x = np.delete(x, j, 1)\n",
    "    \n",
    "    print(regressor_OLS.summary())\n",
    "    return x\n",
    "     \n",
    "# Extract important features of numerical features using p-value and adjusted-R\n",
    "def backwardElimination_p_R(x, SL):\n",
    "    numVars = len(x[0])\n",
    "    temp = np.zeros((1460,25)).astype(int)\n",
    "    for i in range(0, numVars):\n",
    "        regressor_OLS = sm.OLS(y, x).fit()\n",
    "        maxVar = max(regressor_OLS.pvalues)#.astype(float)\n",
    "        adjR_before = regressor_OLS.rsquared_adj.astype(float)\n",
    "        if maxVar > SL:\n",
    "            for j in range(0, numVars - i):\n",
    "                if (regressor_OLS.pvalues[j].astype(float) == maxVar):\n",
    "                    temp[:,j] = x[:, j]\n",
    "                    x = np.delete(x, j, 1)\n",
    "                    tmp_regressor = sm.OLS(y, x).fit()\n",
    "                    adjR_after = tmp_regressor.rsquared_adj.astype(float)\n",
    "                    if (adjR_before >= adjR_after):\n",
    "                        x_rollback = np.hstack((x, temp[:,[0,j]]))\n",
    "                        x_rollback = np.delete(x_rollback, j, 1)\n",
    "                        print (regressor_OLS.summary())\n",
    "                        return x_rollback\n",
    "                    else:\n",
    "                        continue\n",
    "    regressor_OLS.summary()\n",
    "    return x    \n",
    "    \n",
    "\n",
    "SL = 0.05\n",
    "#X_opt = X[:, [0, 1, 2, 3, 4, 5]]\n",
    "X_Modeled = backwardElimination_p(x, SL)"
   ]
  },
  {
   "cell_type": "code",
   "execution_count": 31,
   "metadata": {},
   "outputs": [
    {
     "data": {
      "text/plain": [
       "['MSSubClass',\n",
       " 'LotArea',\n",
       " 'OverallQual',\n",
       " 'OverallCond',\n",
       " 'YearBuilt',\n",
       " 'YearRemodAdd',\n",
       " 'MasVnrArea',\n",
       " 'BsmtFinSF1',\n",
       " 'TotalBsmtSF',\n",
       " '1stFlrSF',\n",
       " '2ndFlrSF',\n",
       " 'BsmtFullBath',\n",
       " 'FullBath',\n",
       " 'HalfBath',\n",
       " 'BedroomAbvGr',\n",
       " 'KitchenAbvGr',\n",
       " 'TotRmsAbvGrd',\n",
       " 'Fireplaces',\n",
       " 'GarageYrBlt',\n",
       " 'GarageCars',\n",
       " 'WoodDeckSF',\n",
       " 'EnclosedPorch',\n",
       " 'ScreenPorch',\n",
       " 'PoolArea']"
      ]
     },
     "execution_count": 31,
     "metadata": {},
     "output_type": "execute_result"
    }
   ],
   "source": [
    "np.isin(x[0, :], X_Modeled[0, :])\n",
    "index_imp = np.argwhere(np.isin(x[0, :], X_Modeled[0, :]) == True) # Index of important features\n",
    "index_imp\n",
    "Important_features = [col[i][0] for i in index_imp]\n",
    "Important_features"
   ]
  },
  {
   "cell_type": "markdown",
   "metadata": {},
   "source": [
    "### Join object and numeric features"
   ]
  },
  {
   "cell_type": "code",
   "execution_count": 32,
   "metadata": {},
   "outputs": [
    {
     "name": "stdout",
     "output_type": "stream",
     "text": [
      "(1460, 89) (1460, 65) (1460, 24)\n"
     ]
    }
   ],
   "source": [
    "# Add encoded categorical features to the numerical features\n",
    "df_train_final = pd.concat([df_train_num_high_corr[Important_features], df_encoded_train], axis=1)\n",
    "print(df_train_final.shape, df_encoded_train.shape, df_train_num_high_corr[Important_features].shape)\n",
    "list1 = df_encoded_train.index.tolist()\n",
    "list2 = df_train_num_high_corr[Important_features].index.tolist()\n",
    "for i in np.isin(list1, list2):\n",
    "    if i == False:\n",
    "        print(i)"
   ]
  },
  {
   "cell_type": "code",
   "execution_count": 33,
   "metadata": {},
   "outputs": [
    {
     "name": "stdout",
     "output_type": "stream",
     "text": [
      "(1460,) (1460, 89)\n"
     ]
    }
   ],
   "source": [
    "y_opt = df_train['SalePrice']\n",
    "x_opt = df_train_final.iloc[:, :].values# remove saleprice from the list\n",
    "print(y_opt.shape, x_opt.shape)"
   ]
  },
  {
   "cell_type": "markdown",
   "metadata": {},
   "source": [
    "### Prepare test dataset"
   ]
  },
  {
   "cell_type": "code",
   "execution_count": 34,
   "metadata": {},
   "outputs": [],
   "source": [
    "# Just consider numeric columns with important features as we obtained using OLS\n",
    "df_test_num = df_test[Important_features]"
   ]
  },
  {
   "cell_type": "code",
   "execution_count": 35,
   "metadata": {},
   "outputs": [
    {
     "name": "stdout",
     "output_type": "stream",
     "text": [
      "MasVnrArea      15\n",
      "BsmtFinSF1       1\n",
      "TotalBsmtSF      1\n",
      "BsmtFullBath     2\n",
      "GarageYrBlt     78\n",
      "GarageCars       1\n",
      "dtype: int64\n"
     ]
    },
    {
     "name": "stderr",
     "output_type": "stream",
     "text": [
      "C:\\Users\\u0125384\\Anaconda3\\lib\\site-packages\\pandas\\core\\generic.py:6245: SettingWithCopyWarning: \n",
      "A value is trying to be set on a copy of a slice from a DataFrame\n",
      "\n",
      "See the caveats in the documentation: https://pandas.pydata.org/pandas-docs/stable/user_guide/indexing.html#returning-a-view-versus-a-copy\n",
      "  self._update_inplace(new_data)\n"
     ]
    }
   ],
   "source": [
    "fill_nan(df_test_num)"
   ]
  },
  {
   "cell_type": "code",
   "execution_count": 36,
   "metadata": {},
   "outputs": [
    {
     "name": "stdout",
     "output_type": "stream",
     "text": [
      "(1459, 89) (1459, 65) (1459, 24)\n"
     ]
    }
   ],
   "source": [
    "df_test_final = pd.concat([df_test_num, df_encoded_test], axis=1)\n",
    "x_submission = df_test_final.values\n",
    "print(x_submission.shape,df_encoded_test.shape, df_test_num.shape)"
   ]
  },
  {
   "cell_type": "code",
   "execution_count": 37,
   "metadata": {},
   "outputs": [
    {
     "name": "stdout",
     "output_type": "stream",
     "text": [
      "Training set dimension: (1460, 89)\n",
      "Test set dimension:     (1459, 89)\n",
      "-----------------------------------------\n",
      "Number of training set object col:  65\n",
      "Number of training set numeric col: 24\n",
      "-----------------------------------------\n",
      "Number of test set object col:  65\n",
      "Number of test set numeric col: 24\n"
     ]
    },
    {
     "data": {
      "text/plain": [
       "array([[20, 11622, 5, ..., '0.0', '0.0', '0.0'],\n",
       "       [20, 14267, 6, ..., '1.0', '0.0', '0.0'],\n",
       "       [60, 13830, 5, ..., '0.0', '0.0', '0.0'],\n",
       "       ...,\n",
       "       [20, 20000, 5, ..., '0.0', '0.0', '0.0'],\n",
       "       [85, 10441, 5, ..., '0.0', '0.0', '0.0'],\n",
       "       [60, 9627, 7, ..., '0.0', '0.0', '0.0']], dtype=object)"
      ]
     },
     "execution_count": 37,
     "metadata": {},
     "output_type": "execute_result"
    }
   ],
   "source": [
    "dim_check(df_train_final, df_test_final)\n",
    "x_submission"
   ]
  },
  {
   "cell_type": "code",
   "execution_count": 38,
   "metadata": {},
   "outputs": [],
   "source": [
    "# Prepare the submission file\n",
    "def prepare_submission(model, x, file_name):\n",
    "      \n",
    "    # Predict saleprice for test dataset\n",
    "    y_prediction = model.predict(x)\n",
    "    # Prepare submission file\n",
    "    submission = pd.DataFrame({'Id': df_test['Id'].tolist(), 'SalePrice': y_prediction})\n",
    "    submission.to_csv(file_name, index = False)\n",
    "    \n",
    "def select_type(df, data_type):\n",
    "    if data_type == 'numeric':\n",
    "        return df.select_dtypes(include = ['float64', 'int64', 'int32'])\n",
    "    elif data_type == 'obj':\n",
    "        return df.select_dtypes(include = ['object', 'bool'])\n",
    "    elif data_type == 'all':\n",
    "        return df"
   ]
  },
  {
   "cell_type": "markdown",
   "metadata": {},
   "source": [
    "### Grid Search"
   ]
  },
  {
   "cell_type": "code",
   "execution_count": 39,
   "metadata": {},
   "outputs": [],
   "source": [
    "from sklearn.model_selection import GridSearchCV, cross_val_score\n",
    "from sklearn.ensemble import GradientBoostingRegressor"
   ]
  },
  {
   "cell_type": "code",
   "execution_count": 40,
   "metadata": {},
   "outputs": [],
   "source": [
    "y_opt = df_train['SalePrice']\n",
    "data_type = 'all'\n",
    "x_opt = select_type(df_train_final, data_type).iloc[:, :].values# remove saleprice from the list\n",
    "x_submission = select_type(df_test_final, data_type).values"
   ]
  },
  {
   "cell_type": "code",
   "execution_count": 41,
   "metadata": {},
   "outputs": [],
   "source": [
    "model_GBR = GradientBoostingRegressor()"
   ]
  },
  {
   "cell_type": "code",
   "execution_count": 42,
   "metadata": {},
   "outputs": [
    {
     "name": "stdout",
     "output_type": "stream",
     "text": [
      "\n",
      "========================================================\n",
      " Results from Grid Search \n",
      "========================================================\n",
      "\n",
      " The best estimator across ALL searched params:\n",
      " GradientBoostingRegressor(alpha=0.9, ccp_alpha=0.0, criterion='friedman_mse',\n",
      "                          init=None, learning_rate=0.022, loss='ls',\n",
      "                          max_depth=4, max_features=None, max_leaf_nodes=None,\n",
      "                          min_impurity_decrease=0.0, min_impurity_split=None,\n",
      "                          min_samples_leaf=1, min_samples_split=2,\n",
      "                          min_weight_fraction_leaf=0.0, n_estimators=800,\n",
      "                          n_iter_no_change=None, presort='deprecated',\n",
      "                          random_state=None, subsample=0.75, tol=0.0001,\n",
      "                          validation_fraction=0.1, verbose=0, warm_start=False)\n",
      "\n",
      " The best score across ALL searched params:\n",
      " 0.8811412928137156\n",
      "\n",
      " The best parameters across ALL searched params:\n",
      " {'learning_rate': 0.022, 'max_depth': 4, 'min_samples_split': 2, 'n_estimators': 800, 'subsample': 0.75}\n"
     ]
    }
   ],
   "source": [
    "# Split train data into train and test\n",
    "#x_train_opt, x_test_opt, y_train_opt, y_test_opt = train_test_split(x_opt, y_opt, test_size = 0.25, random_state = 0)\n",
    "\n",
    "# Parameters list for Grid search\n",
    "parameters = {'learning_rate': [0.022],\n",
    "                  'subsample'    : [0.75],\n",
    "                  'n_estimators' : [800],\n",
    "                  'max_depth'    : [4],\n",
    "              'min_samples_split': [2]\n",
    "                 }\n",
    "CV = 10 \n",
    "\n",
    "grid_GBR = GridSearchCV(estimator=model_GBR, param_grid = parameters, cv = CV, n_jobs=-1)\n",
    "grid_GBR.fit(x_opt, y_opt)    \n",
    "\n",
    "    # Results from Grid Search\n",
    "print(\"\\n========================================================\")\n",
    "print(\" Results from Grid Search \" )\n",
    "print(\"========================================================\")    \n",
    "    \n",
    "print(\"\\n The best estimator across ALL searched params:\\n\",\n",
    "          grid_GBR.best_estimator_)\n",
    "    \n",
    "print(\"\\n The best score across ALL searched params:\\n\",\n",
    "          grid_GBR.best_score_)\n",
    "    \n",
    "print(\"\\n The best parameters across ALL searched params:\\n\",\n",
    "          grid_GBR.best_params_)"
   ]
  },
  {
   "cell_type": "code",
   "execution_count": 43,
   "metadata": {},
   "outputs": [
    {
     "name": "stdout",
     "output_type": "stream",
     "text": [
      "[0.89361064 0.91060553 0.92403706 0.73610734 0.91677915 0.90495085\n",
      " 0.83511417 0.90140339 0.90730086 0.89153325]\n",
      "0.8821442239841051\n"
     ]
    }
   ],
   "source": [
    "accuracies = cross_val_score(estimator=grid_GBR.best_estimator_, X = x_opt, y = y_opt, cv = CV)\n",
    "print(accuracies)\n",
    "print(accuracies.mean())"
   ]
  },
  {
   "cell_type": "code",
   "execution_count": 45,
   "metadata": {},
   "outputs": [
    {
     "name": "stdout",
     "output_type": "stream",
     "text": [
      "Accuracy: 0.8818 (+/- 0.1235)\n"
     ]
    }
   ],
   "source": [
    "scores_GBR = cross_val_score(grid_GBR.best_estimator_, x_opt, y_opt, cv=CV)\n",
    "print(\"Accuracy: %0.4f (+/- %0.4f)\" % (scores_GBR.mean(), scores_GBR.std() * 2))"
   ]
  },
  {
   "cell_type": "code",
   "execution_count": 46,
   "metadata": {},
   "outputs": [
    {
     "name": "stdout",
     "output_type": "stream",
     "text": [
      "Train score on all data: 0.9881755229595869\n"
     ]
    }
   ],
   "source": [
    "# Model score on training dataset\n",
    "print('Train score on all data: {}'.format(grid_GBR.best_estimator_.score(x_opt, y_opt))) # best score so far 0.9883688838026587"
   ]
  },
  {
   "cell_type": "code",
   "execution_count": 48,
   "metadata": {},
   "outputs": [],
   "source": [
    "prepare_submission(grid_GBR.best_estimator_, x_submission,'submission_XGB_grid_search.csv')"
   ]
  },
  {
   "cell_type": "markdown",
   "metadata": {},
   "source": [
    "### Linear Regression"
   ]
  },
  {
   "cell_type": "code",
   "execution_count": 55,
   "metadata": {},
   "outputs": [
    {
     "name": "stdout",
     "output_type": "stream",
     "text": [
      "Training Score: 0.8611263296939451\n",
      "Cross validation score: 0.8279 (+/- 0.2003)\n"
     ]
    }
   ],
   "source": [
    "# Linear Model\n",
    "y_opt = df_train['SalePrice']\n",
    "data_type = 'all'\n",
    "x_opt = select_type(df_train_final, data_type).iloc[:, :].values# remove saleprice from the list\n",
    "x_submission = select_type(df_test_final, data_type).values\n",
    "\n",
    "# Create a Linear regression model\n",
    "LR = LinearRegression()\n",
    "LR.fit(x_opt, y_opt)\n",
    "\n",
    "print('Training Score: {}'.format(LR.score(x_opt, y_opt)))\n",
    "scores_LR = cross_val_score(LR, x_opt, y_opt, cv=10)\n",
    "print(\"Cross validation score: %0.4f (+/- %0.4f)\" % (scores_LR.mean(), scores_LR.std() * 2))\n",
    "\n",
    "#y_prediction_submission = LR.predict(x_submission)\n",
    "prepare_submission(LR, x_submission, 'Linear_Regression.csv')"
   ]
  },
  {
   "cell_type": "markdown",
   "metadata": {},
   "source": [
    "### Polynomial Regression"
   ]
  },
  {
   "cell_type": "code",
   "execution_count": 56,
   "metadata": {},
   "outputs": [
    {
     "name": "stdout",
     "output_type": "stream",
     "text": [
      "Training Score: 0.9420180805231104\n",
      "Cross validation score: 0.6684 (+/- 0.4091)\n"
     ]
    }
   ],
   "source": [
    "from sklearn.preprocessing import PolynomialFeatures\n",
    "\n",
    "y_opt = df_train['SalePrice']\n",
    "data_type = 'numeric'\n",
    "x_opt = select_type(df_train_final, data_type).iloc[:, :].values# remove saleprice from the list\n",
    "x_submission = select_type(df_test_final, data_type).values\n",
    "\n",
    "\n",
    "poly_reg = PolynomialFeatures(degree=2)\n",
    "x_poly_opt = poly_reg.fit_transform(x_opt)\n",
    "LR = LinearRegression()\n",
    "LR.fit(x_poly_opt, y_opt)\n",
    "\n",
    "print('Training Score: {}'.format(LR.score(x_poly_opt, y_opt)))\n",
    "scores_LR = cross_val_score(LR, x_poly_opt, y_opt, cv=10)\n",
    "print(\"Cross validation score: %0.4f (+/- %0.4f)\" % (scores_LR.mean(), scores_LR.std() * 2))\n",
    "\n",
    "x_submission = poly_reg.fit_transform(x_submission)\n",
    "prepare_submission(LR, x_submission, 'Polynomial_Regression.csv')"
   ]
  },
  {
   "cell_type": "markdown",
   "metadata": {},
   "source": [
    "### Support Vector Regressor"
   ]
  },
  {
   "cell_type": "code",
   "execution_count": 57,
   "metadata": {},
   "outputs": [],
   "source": [
    "from sklearn.svm import SVR\n",
    "from sklearn.preprocessing import StandardScaler\n",
    "model_SVR = SVR(kernel='rbf', gamma='auto') # this used for nonlinear"
   ]
  },
  {
   "cell_type": "code",
   "execution_count": 58,
   "metadata": {},
   "outputs": [],
   "source": [
    "y_opt_array = df_train['SalePrice'].values\n",
    "data_type = 'all'\n",
    "x_opt = select_type(df_train_final, data_type).iloc[:, :].values# remove saleprice from the list\n",
    "x_submission = select_type(df_test_final, data_type).values\n",
    "\n",
    "# Split train data into train and test\n",
    "x_train_opt, x_test_opt, y_train_opt, y_test_opt = train_test_split(x_opt, y_opt_array, \n",
    "                                                                    test_size = 0.25, \n",
    "                                                                    random_state = 0)\n",
    "\n",
    "#Feature scaling\n",
    "\n",
    "SC = StandardScaler()\n",
    "x_sc = SC.fit_transform(x_opt)\n",
    "x_sc_submission = SC.fit_transform(x_submission)\n",
    "\n",
    "\n",
    "SC = StandardScaler()\n",
    "y_sc = SC.fit_transform(y_opt_array.reshape(-1, 1))\n"
   ]
  },
  {
   "cell_type": "code",
   "execution_count": 59,
   "metadata": {},
   "outputs": [
    {
     "name": "stdout",
     "output_type": "stream",
     "text": [
      "\n",
      "========================================================\n",
      " Results from Grid Search \n",
      "========================================================\n",
      "\n",
      " The best estimator across ALL searched params:\n",
      " SVR(C=10, cache_size=200, coef0=0.0, degree=3, epsilon=0.1, gamma=0.001,\n",
      "    kernel='rbf', max_iter=-1, shrinking=True, tol=0.001, verbose=False)\n",
      "\n",
      " The best score across ALL searched params:\n",
      " 0.8674589497309066\n",
      "\n",
      " The best parameters across ALL searched params:\n",
      " {'C': 10, 'gamma': 0.001, 'kernel': 'rbf'}\n"
     ]
    },
    {
     "name": "stderr",
     "output_type": "stream",
     "text": [
      "C:\\Users\\u0125384\\Anaconda3\\lib\\site-packages\\sklearn\\utils\\validation.py:760: DataConversionWarning: A column-vector y was passed when a 1d array was expected. Please change the shape of y to (n_samples, ), for example using ravel().\n",
      "  y = column_or_1d(y, warn=True)\n"
     ]
    }
   ],
   "source": [
    "param_grid = {'C': [10], \n",
    "              'gamma': [0.001],\n",
    "              'kernel': ['rbf']}\n",
    "\n",
    "grid_SVR = GridSearchCV(estimator=model_SVR, param_grid = param_grid, cv = 10, n_jobs=-1)\n",
    "grid_SVR.fit(x_sc, y_sc)    \n",
    "\n",
    "    # Results from Grid Search\n",
    "print(\"\\n========================================================\")\n",
    "print(\" Results from Grid Search \" )\n",
    "print(\"========================================================\")    \n",
    "    \n",
    "print(\"\\n The best estimator across ALL searched params:\\n\",\n",
    "          grid_SVR.best_estimator_)\n",
    "    \n",
    "print(\"\\n The best score across ALL searched params:\\n\",\n",
    "          grid_SVR.best_score_)\n",
    "    \n",
    "print(\"\\n The best parameters across ALL searched params:\\n\",\n",
    "          grid_SVR.best_params_)"
   ]
  },
  {
   "cell_type": "code",
   "execution_count": 62,
   "metadata": {},
   "outputs": [
    {
     "name": "stderr",
     "output_type": "stream",
     "text": [
      "C:\\Users\\u0125384\\Anaconda3\\lib\\site-packages\\sklearn\\utils\\validation.py:760: DataConversionWarning: A column-vector y was passed when a 1d array was expected. Please change the shape of y to (n_samples, ), for example using ravel().\n",
      "  y = column_or_1d(y, warn=True)\n",
      "C:\\Users\\u0125384\\Anaconda3\\lib\\site-packages\\sklearn\\utils\\validation.py:760: DataConversionWarning: A column-vector y was passed when a 1d array was expected. Please change the shape of y to (n_samples, ), for example using ravel().\n",
      "  y = column_or_1d(y, warn=True)\n",
      "C:\\Users\\u0125384\\Anaconda3\\lib\\site-packages\\sklearn\\utils\\validation.py:760: DataConversionWarning: A column-vector y was passed when a 1d array was expected. Please change the shape of y to (n_samples, ), for example using ravel().\n",
      "  y = column_or_1d(y, warn=True)\n",
      "C:\\Users\\u0125384\\Anaconda3\\lib\\site-packages\\sklearn\\utils\\validation.py:760: DataConversionWarning: A column-vector y was passed when a 1d array was expected. Please change the shape of y to (n_samples, ), for example using ravel().\n",
      "  y = column_or_1d(y, warn=True)\n",
      "C:\\Users\\u0125384\\Anaconda3\\lib\\site-packages\\sklearn\\utils\\validation.py:760: DataConversionWarning: A column-vector y was passed when a 1d array was expected. Please change the shape of y to (n_samples, ), for example using ravel().\n",
      "  y = column_or_1d(y, warn=True)\n",
      "C:\\Users\\u0125384\\Anaconda3\\lib\\site-packages\\sklearn\\utils\\validation.py:760: DataConversionWarning: A column-vector y was passed when a 1d array was expected. Please change the shape of y to (n_samples, ), for example using ravel().\n",
      "  y = column_or_1d(y, warn=True)\n",
      "C:\\Users\\u0125384\\Anaconda3\\lib\\site-packages\\sklearn\\utils\\validation.py:760: DataConversionWarning: A column-vector y was passed when a 1d array was expected. Please change the shape of y to (n_samples, ), for example using ravel().\n",
      "  y = column_or_1d(y, warn=True)\n",
      "C:\\Users\\u0125384\\Anaconda3\\lib\\site-packages\\sklearn\\utils\\validation.py:760: DataConversionWarning: A column-vector y was passed when a 1d array was expected. Please change the shape of y to (n_samples, ), for example using ravel().\n",
      "  y = column_or_1d(y, warn=True)\n",
      "C:\\Users\\u0125384\\Anaconda3\\lib\\site-packages\\sklearn\\utils\\validation.py:760: DataConversionWarning: A column-vector y was passed when a 1d array was expected. Please change the shape of y to (n_samples, ), for example using ravel().\n",
      "  y = column_or_1d(y, warn=True)\n",
      "C:\\Users\\u0125384\\Anaconda3\\lib\\site-packages\\sklearn\\utils\\validation.py:760: DataConversionWarning: A column-vector y was passed when a 1d array was expected. Please change the shape of y to (n_samples, ), for example using ravel().\n",
      "  y = column_or_1d(y, warn=True)\n"
     ]
    },
    {
     "name": "stdout",
     "output_type": "stream",
     "text": [
      "Training Score: 0.9119951224719044\n",
      "Cross validation score: 0.8675 (+/- 0.1759)\n"
     ]
    }
   ],
   "source": [
    "scores_SVR = cross_val_score(grid_SVR.best_estimator_, x_sc, y_sc, cv=10)\n",
    "print('Training Score: {}'.format(grid_SVR.best_estimator_.score(x_sc, y_sc)))\n",
    "print(\"Cross validation score: %0.4f (+/- %0.4f)\" % (scores_SVR.mean(), scores_SVR.std() * 2))"
   ]
  },
  {
   "cell_type": "code",
   "execution_count": 64,
   "metadata": {},
   "outputs": [],
   "source": [
    "prepare_submission(grid_SVR.best_estimator_, x_sc_submission,'Support_vector_machine.csv')"
   ]
  },
  {
   "cell_type": "markdown",
   "metadata": {},
   "source": [
    "### Decision Tree Regressor"
   ]
  },
  {
   "cell_type": "code",
   "execution_count": 77,
   "metadata": {},
   "outputs": [],
   "source": [
    "# Import library\n",
    "from sklearn.tree import DecisionTreeRegressor\n",
    "model_DTR = DecisionTreeRegressor(random_state=0)"
   ]
  },
  {
   "cell_type": "code",
   "execution_count": 78,
   "metadata": {},
   "outputs": [],
   "source": [
    "y_opt = df_train['SalePrice']\n",
    "data_type = 'numeric'\n",
    "x_opt = select_type(df_train_final, data_type).iloc[:, :].values# remove saleprice from the list\n",
    "x_submission = select_type(df_test_final, data_type).values"
   ]
  },
  {
   "cell_type": "code",
   "execution_count": 79,
   "metadata": {},
   "outputs": [
    {
     "name": "stdout",
     "output_type": "stream",
     "text": [
      "\n",
      "========================================================\n",
      " Results from Grid Search \n",
      "========================================================\n",
      "\n",
      " The best estimator across ALL searched params:\n",
      " DecisionTreeRegressor(ccp_alpha=0.0, criterion='mse', max_depth=8,\n",
      "                      max_features=None, max_leaf_nodes=100,\n",
      "                      min_impurity_decrease=0.0, min_impurity_split=None,\n",
      "                      min_samples_leaf=20, min_samples_split=10,\n",
      "                      min_weight_fraction_leaf=0.0, presort='deprecated',\n",
      "                      random_state=0, splitter='best')\n",
      "\n",
      " The best score across ALL searched params:\n",
      " 0.7547340910379393\n",
      "\n",
      " The best parameters across ALL searched params:\n",
      " {'criterion': 'mse', 'max_depth': 8, 'max_leaf_nodes': 100, 'min_samples_leaf': 20, 'min_samples_split': 10}\n"
     ]
    }
   ],
   "source": [
    "# Hyperparameter tuning with GridSearchCV\n",
    "param_grid = {\"criterion\": [\"mse\", \"mae\"],\n",
    "              \"min_samples_split\": [10, 20, 40],\n",
    "              \"max_depth\": [2, 6, 8],\n",
    "              \"min_samples_leaf\": [20, 40, 100],\n",
    "              \"max_leaf_nodes\": [5, 20, 100],\n",
    "              }\n",
    "    \n",
    "grid_DTR = GridSearchCV(estimator=model_DTR, param_grid = param_grid, cv = 5, n_jobs=-1)\n",
    "grid_DTR.fit(x_opt, y_opt)    \n",
    "\n",
    "    # Results from Grid Search\n",
    "print(\"\\n========================================================\")\n",
    "print(\" Results from Grid Search \" )\n",
    "print(\"========================================================\")    \n",
    "    \n",
    "print(\"\\n The best estimator across ALL searched params:\\n\",\n",
    "          grid_DTR.best_estimator_)\n",
    "    \n",
    "print(\"\\n The best score across ALL searched params:\\n\",\n",
    "          grid_DTR.best_score_)\n",
    "    \n",
    "print(\"\\n The best parameters across ALL searched params:\\n\",\n",
    "          grid_DTR.best_params_)"
   ]
  },
  {
   "cell_type": "code",
   "execution_count": 80,
   "metadata": {},
   "outputs": [
    {
     "name": "stdout",
     "output_type": "stream",
     "text": [
      "Training Score: 0.832070510171344\n",
      "Cross validation score: 0.7499 (+/- 0.1053)\n"
     ]
    }
   ],
   "source": [
    "scores_DTR = cross_val_score(grid_DTR.best_estimator_, x_opt, y_opt, cv=10)\n",
    "print('Training Score: {}'.format(grid_DTR.best_estimator_.score(x_opt, y_opt)))\n",
    "print(\"Cross validation score: %0.4f (+/- %0.4f)\" % (scores_DTR.mean(), scores_DTR.std() * 2))"
   ]
  },
  {
   "cell_type": "code",
   "execution_count": 81,
   "metadata": {},
   "outputs": [],
   "source": [
    "prepare_submission(grid.best_estimator_, x_submission,'Decision_Tree_Regressor.csv')"
   ]
  },
  {
   "cell_type": "markdown",
   "metadata": {},
   "source": [
    "### Random Forest Regression"
   ]
  },
  {
   "cell_type": "code",
   "execution_count": 82,
   "metadata": {},
   "outputs": [],
   "source": [
    "# Import library\n",
    "from sklearn.ensemble import RandomForestRegressor\n",
    "from sklearn.model_selection import cross_val_score\n",
    "model_RFR = RandomForestRegressor()"
   ]
  },
  {
   "cell_type": "code",
   "execution_count": 83,
   "metadata": {},
   "outputs": [],
   "source": [
    "# Prepare x and y data\n",
    "y_opt = df_train['SalePrice']\n",
    "data_type = 'all'\n",
    "x_opt = select_type(df_train_final, data_type).iloc[:, :].values# remove saleprice from the list\n",
    "x_submission = select_type(df_test_final, data_type).values"
   ]
  },
  {
   "cell_type": "code",
   "execution_count": 110,
   "metadata": {},
   "outputs": [
    {
     "name": "stdout",
     "output_type": "stream",
     "text": [
      "\n",
      "========================================================\n",
      " Results from Grid Search \n",
      "========================================================\n",
      "\n",
      " The best estimator across ALL searched params:\n",
      " RandomForestRegressor(bootstrap=True, ccp_alpha=0.0, criterion='mse',\n",
      "                      max_depth=None, max_features='auto', max_leaf_nodes=None,\n",
      "                      max_samples=None, min_impurity_decrease=0.0,\n",
      "                      min_impurity_split=None, min_samples_leaf=1,\n",
      "                      min_samples_split=2, min_weight_fraction_leaf=0.0,\n",
      "                      n_estimators=1000, n_jobs=None, oob_score=False,\n",
      "                      random_state=None, verbose=0, warm_start=False)\n",
      "\n",
      " The best score across ALL searched params:\n",
      " 0.8560939225974555\n",
      "\n",
      " The best parameters across ALL searched params:\n",
      " {'bootstrap': True, 'n_estimators': 1000}\n"
     ]
    }
   ],
   "source": [
    "# Hyperparameter tuning with GridSearchCV\n",
    "param_grid = {\n",
    "    'bootstrap': [True],\n",
    "    #'max_depth': [80, 90, 100, 110],\n",
    "    #'max_features': [2, 3],\n",
    "    #'min_samples_leaf': [3, 4, 5],\n",
    "    #'min_samples_split': [8, 10, 12],\n",
    "    'n_estimators': [300, 1000]\n",
    "}\n",
    "    \n",
    "grid_RFR = GridSearchCV(estimator=model_RFR, param_grid = param_grid, cv = 5, n_jobs=-1)\n",
    "grid_RFR.fit(x_opt, y_opt)    \n",
    "\n",
    "    # Results from Grid Search\n",
    "print(\"\\n========================================================\")\n",
    "print(\" Results from Grid Search \" )\n",
    "print(\"========================================================\")    \n",
    "    \n",
    "print(\"\\n The best estimator across ALL searched params:\\n\",\n",
    "          grid_RFR.best_estimator_)\n",
    "    \n",
    "print(\"\\n The best score across ALL searched params:\\n\",\n",
    "          grid_RFR.best_score_)\n",
    "    \n",
    "print(\"\\n The best parameters across ALL searched params:\\n\",\n",
    "          grid_RFR.best_params_)\n",
    "model =  grid_RFR.best_estimator_"
   ]
  },
  {
   "cell_type": "code",
   "execution_count": 111,
   "metadata": {},
   "outputs": [
    {
     "name": "stdout",
     "output_type": "stream",
     "text": [
      "Training Score: 0.9813696230490212\n",
      "Accuracy: 0.8553 (+/- 0.0389)\n"
     ]
    }
   ],
   "source": [
    "print('Training Score: {}'.format(model.score(x_opt, y_opt)))\n",
    "scores_RFR = cross_val_score(model, x_opt, y_opt, cv=5)\n",
    "print(\"Accuracy: %0.4f (+/- %0.4f)\" % (scores_RFR.mean(), scores_RFR.std() * 2))"
   ]
  },
  {
   "cell_type": "code",
   "execution_count": 112,
   "metadata": {},
   "outputs": [],
   "source": [
    "# Prediction on test dataset and prepare submission file to Kaggle\n",
    "prepare_submission(model, x_submission,'Random_Forest_Regressor.csv')"
   ]
  },
  {
   "cell_type": "markdown",
   "metadata": {},
   "source": [
    "### XGBoost"
   ]
  },
  {
   "cell_type": "code",
   "execution_count": 88,
   "metadata": {},
   "outputs": [],
   "source": [
    "# Import library\n",
    "import xgboost as xgb\n",
    "model_xgb = xgb.XGBRegressor(colsample_bytree=0.4,\n",
    "                 gamma=0,                 \n",
    "                 learning_rate=0.07,\n",
    "                 max_depth=3,\n",
    "                 min_child_weight=1.5,\n",
    "                 n_estimators=10000,                                                                    \n",
    "                 reg_alpha=0.75,\n",
    "                 reg_lambda=0.45,\n",
    "                 subsample=0.6,\n",
    "                 seed=42) "
   ]
  },
  {
   "cell_type": "code",
   "execution_count": 96,
   "metadata": {},
   "outputs": [],
   "source": [
    "# Prepare x and y data\n",
    "y_opt = df_train['SalePrice']\n",
    "data_type = 'numeric'\n",
    "x_opt = select_type(df_train_final, data_type).iloc[:, :].values# remove saleprice from the list\n",
    "x_submission = select_type(df_test_final, data_type).values"
   ]
  },
  {
   "cell_type": "code",
   "execution_count": 107,
   "metadata": {},
   "outputs": [
    {
     "name": "stdout",
     "output_type": "stream",
     "text": [
      "\n",
      "========================================================\n",
      " Results from Grid Search \n",
      "========================================================\n",
      "\n",
      " The best estimator across ALL searched params:\n",
      " XGBRegressor(base_score=0.5, booster=None, bootstrap=True, colsample_bylevel=1,\n",
      "             colsample_bynode=1, colsample_bytree=0.4, gamma=0, gpu_id=-1,\n",
      "             importance_type='gain', interaction_constraints=None,\n",
      "             learning_rate=0.07, max_delta_step=0, max_depth=3,\n",
      "             min_child_weight=1.5, missing=nan, monotone_constraints=None,\n",
      "             n_estimators=300, n_jobs=0, num_parallel_tree=1,\n",
      "             objective='reg:squarederror', random_state=42, reg_alpha=0.75,\n",
      "             reg_lambda=0.45, scale_pos_weight=1, seed=42, subsample=0.6,\n",
      "             tree_method=None, validate_parameters=False, verbosity=None)\n",
      "\n",
      " The best score across ALL searched params:\n",
      " 0.866086498285975\n",
      "\n",
      " The best parameters across ALL searched params:\n",
      " {'bootstrap': True, 'n_estimators': 300}\n"
     ]
    }
   ],
   "source": [
    "# Hyperparameter tuning with GridSearchCV\n",
    "param_grid = {\n",
    "    'bootstrap': [True],\n",
    "    #'max_depth': [80, 90, 100, 110],\n",
    "    #'max_features': [2, 3],\n",
    "    #'min_samples_leaf': [3, 4, 5],\n",
    "    #'min_samples_split': [8, 10, 12],\n",
    "    'n_estimators': [300, 1000]\n",
    "}\n",
    "    \n",
    "grid_xgb = GridSearchCV(estimator=model_xgb, param_grid = param_grid, cv = 5, n_jobs=-1)\n",
    "grid_xgb.fit(x_opt, y_opt)    \n",
    "\n",
    "    # Results from Grid Search\n",
    "print(\"\\n========================================================\")\n",
    "print(\" Results from Grid Search \" )\n",
    "print(\"========================================================\")    \n",
    "    \n",
    "print(\"\\n The best estimator across ALL searched params:\\n\",\n",
    "          grid_xgb.best_estimator_)\n",
    "    \n",
    "print(\"\\n The best score across ALL searched params:\\n\",\n",
    "          grid_xgb.best_score_)\n",
    "    \n",
    "print(\"\\n The best parameters across ALL searched params:\\n\",\n",
    "          grid_xgb.best_params_)\n",
    "\n",
    "model = grid_xgb.best_estimator_"
   ]
  },
  {
   "cell_type": "code",
   "execution_count": 108,
   "metadata": {},
   "outputs": [
    {
     "name": "stdout",
     "output_type": "stream",
     "text": [
      "Training Score: 0.9650301374715198\n",
      "Accuracy: 0.87 (+/- 0.07)\n"
     ]
    }
   ],
   "source": [
    "print('Training Score: {}'.format(model.score(x_opt, y_opt)))\n",
    "scores_XGB = cross_val_score(model, x_opt, y_opt, cv=5)\n",
    "print(\"Accuracy: %0.2f (+/- %0.2f)\" % (scores_XGB.mean(), scores_XGB.std() * 2))"
   ]
  },
  {
   "cell_type": "code",
   "execution_count": 109,
   "metadata": {},
   "outputs": [],
   "source": [
    "prepare_submission(model, x_submission,'XGBoost.csv')"
   ]
  },
  {
   "cell_type": "code",
   "execution_count": 158,
   "metadata": {},
   "outputs": [
    {
     "data": {
      "text/plain": [
       "array([0.830424  , 0.82359769, 0.84531896, 0.7901982 , 0.79795852,\n",
       "       0.81663656, 0.90386103, 0.88438071, 0.61658594, 0.83321238])"
      ]
     },
     "execution_count": 158,
     "metadata": {},
     "output_type": "execute_result"
    }
   ],
   "source": [
    "accuracies"
   ]
  },
  {
   "cell_type": "code",
   "execution_count": 157,
   "metadata": {},
   "outputs": [],
   "source": [
    "prepare_submission(model, x_sc_submission,'SVR_with_k_fold_cross_validation.csv')"
   ]
  },
  {
   "cell_type": "code",
   "execution_count": null,
   "metadata": {},
   "outputs": [],
   "source": []
  }
 ],
 "metadata": {
  "kernelspec": {
   "display_name": "Python 3",
   "language": "python",
   "name": "python3"
  },
  "language_info": {
   "codemirror_mode": {
    "name": "ipython",
    "version": 3
   },
   "file_extension": ".py",
   "mimetype": "text/x-python",
   "name": "python",
   "nbconvert_exporter": "python",
   "pygments_lexer": "ipython3",
   "version": "3.7.6"
  }
 },
 "nbformat": 4,
 "nbformat_minor": 4
}
